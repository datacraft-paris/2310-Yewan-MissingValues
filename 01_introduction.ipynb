{
 "cells": [
  {
   "cell_type": "markdown",
   "id": "6d68889f",
   "metadata": {},
   "source": [
    "# Prédiction de valeurs manquantes : application à des mesures de capteur\n",
    "\n",
    "Yewan Wang, Guillaume Simon @ Miratlas, Inès Hafassa Maïza @ DataCraft\n",
    "Juillet 2023\n",
    "\n",
    "## Thème\n",
    "Prétraitement des données de séries temporelles pour la complétion des turbulences atmosphériques liées aux conditions météorologiques.\n",
    "\n",
    "## Contexte\n",
    "La société \"Miratlas\" déploie un réseau instrumental mondiale pour surveiller les conditions météorologiques, en particulier les turbulences, afin de caractériser les conditions atmosphériques pour la communication optique en espace libre. Les variables de turbulence sont mesurées en observant les objets célestes brillants dans le ciel, tels que le soleil pendant la journée et Polaris pendant la nuit. Cependant, l'instrument ne peut pas effectuer de mesures efficaces si le soleil ou l'étoile est invisible, par exemple lorsqu'il y a des nuages ou lorsque les objets célestes sont en dessous de l'altitude d'observation. Par conséquent, nous avons de nombreuses valeurs manquantes pour les variables de turbulences. En revanche, la station météorologique obtient normalement des mesures continues sans interruption. Dans cet atelier, nous souhaitons analyser les relations internes et potentielles entre les variables de turbulence et les données météorologiques, afin de déterminer si nous pouvons obtenir des prédictions à court terme des turbulences en utilisant les variables météorologiques pour compléter les measures manquantes de la turbulence.\n",
    "\n",
    "## Plan\n",
    "1. Introduction : Présentation de la problématique et des enjeux.\n",
    "2. Visualization et prétraitement des données : Observation les évolutions et les valeurs manquantes des données.\n",
    "3. Exploration des données : Analyse statistique des jeux de données, en terme de la corrélation, la saisonalité, les valeurs aberrantes pour explorer les relations potentielles entre les variables météorologiques et les turbulences.\n",
    "4. Méthodes pre-selectionnées: <br>\n",
    "    4.1. Modélisation prédictive : Construction d'un modèle prédictif en utilisant des techniques d'apprentissage automatique pour estimer les turbulences à court terme en fonction des données météorologiques.\n",
    "5. Évaluation des performances : Évaluation du modèle prédictif et discussion des résultats obtenus.\n",
    "6. Conclusion : Discusion les résultats obtenus ensemble.\n",
    "\n",
    "\n",
    "## Introduction\n",
    "\n",
    "### Turbulence atmosphérique\n",
    "La turbulence atmosphérique fait référence à l’instabilité des mouvements de l’air. Comme un faisceau laser se propage dans l’atmosphère, son front d’onde subit des distorsions dues à des inhomogénéités dans l’indice de réfraction de l’air, qui sont causées par des variations de température et de pression. Ces effets sur un système optique peuvent être quantifiés par des paramètres de vision atmosphérique tels que la longueur de cohérence atmosphérique (paramètre Fried, r0) et l’angle isoplanatique.\n",
    "\n",
    "Source:\n",
    "- Apprends la science qui sous-tend les quatre principales causes de turbulence: https://parlonssciences.ca/ressources-pedagogiques/les-stim-expliquees/quest-ce-que-la-turbulence-atmospherique#:~:text=La%20turbulence%20en%20air%20clair%20se%20produit%20lorsque%20deux%20masses,de%20l'atmosph%C3%A8re%20appel%C3%A9e%20tropopause.\n",
    "\n",
    "### Description du jeu de données \n",
    "1. time: sampling time  datetime64\n",
    "2. d_ext_temp: external temperature, float64\n",
    "3. d_humid: relative humidity, float64\n",
    "4. d_rain_rate：rain rate, float64       \n",
    "5. d_wind: wind speed, float64       \n",
    "6. d_wind_dir: wind direction, 0° North, 180° south, float64       \n",
    "7. __day_r0__: Fried parameter r0 day, float64       \n",
    "8. __day_see__: Day Seeing, float64       \n",
    "9. __day_see_stddev__, float64       \n",
    "10. down_ir: downwelling irrandance, radiation infrared, float64       \n",
    "11. humid: internal humidity, float64       \n",
    "12. irrad: irradance, float64       \n",
    "13. __isoplan__: Night Seeing isoplanetisme angle, Related to scintillation, float64       \n",
    "14. __night_r0__: Fried parameter r0 night, float64       \n",
    "15. __night_see__: Night Seeing, float64       \n",
    "16. press: pression, float64       \n",
    "17. pyr_temp: Pyrgeomete temperature, at 52° elevation, float64       \n",
    "18. __scint__: Scintillation night, float64, 0-255       \n",
    "19. sky_temp: sky temperature, float64       \n",
    "20. status: four catogeries based on status of DIMM: Day time, Cloudy, Night time, Polaris locked $^*$ , string        \n",
    "21. transp: Transparency night, float64, 0-255       \n",
    "22. wat_col_hei: Total Water Column, water vapor, float64    \n",
    "\n",
    "$^*$ : concerne l'étoile Polaris \n",
    "\n",
    "Toutes les données venant de la station météo sont préfixé `d_`.  \n",
    "\n",
    "__en gras__ : les variables caractérisant la turbulence"
   ]
  },
  {
   "cell_type": "code",
   "execution_count": null,
   "id": "e112cdd3-d4a4-4091-9327-e69538f93078",
   "metadata": {},
   "outputs": [],
   "source": []
  }
 ],
 "metadata": {
  "kernelspec": {
   "display_name": "Python 3 (ipykernel)",
   "language": "python",
   "name": "python3"
  },
  "language_info": {
   "codemirror_mode": {
    "name": "ipython",
    "version": 3
   },
   "file_extension": ".py",
   "mimetype": "text/x-python",
   "name": "python",
   "nbconvert_exporter": "python",
   "pygments_lexer": "ipython3",
   "version": "3.10.12"
  }
 },
 "nbformat": 4,
 "nbformat_minor": 5
}
