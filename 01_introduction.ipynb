{
 "cells": [
  {
   "cell_type": "markdown",
   "id": "f333d9e5-a96a-457d-92dc-7fa8afb94edf",
   "metadata": {},
   "source": [
    "# Prédiction de valeurs manquantes : application à des mesures de capteur\n",
    "\n",
    "Yewan Wang, Guillaume Simon @ Miratlas, Inès Hafassa Maïza @ DataCraft\n",
    "Juillet 2023"
   ]
  },
  {
   "cell_type": "markdown",
   "id": "33166e57-ae89-4552-8eca-9e797152d68c",
   "metadata": {},
   "source": [
    "## Thème 🌟\n",
    "**Prétraitement des données de séries temporelles** pour la complétion d'une valeur caractéristique de la turbulence atmosphériques."
   ]
  },
  {
   "cell_type": "markdown",
   "id": "b45ae849-2c6b-40b6-88b3-a661cc694356",
   "metadata": {},
   "source": [
    "## Contexte 🌍\n",
    "\n",
    "La société **Miratlas** déploie un réseau instrumental mondial 🌐 pour surveiller les conditions météorologiques, en particulier les turbulences, afin de caractériser les conditions atmosphériques pour la communication optique en espace libre. \n",
    "Les variables de turbulence sont mesurées en observant les objets célestes brillants dans le ciel, tels que le soleil ☀️ pendant la journée et Polaris 🌟 pendant la nuit. \n",
    "Cependant, l'instrument ne peut pas effectuer de mesures efficaces si le soleil ou l'étoile est masqué, par exemple lorsqu'il y a des nuages ☁️ ou lorsque les objets célestes sont en dessous de l'altitude d'observation. Par conséquent, nous avons de nombreuses valeurs manquantes pour les variables de turbulences. En revanche, la station météorologique doit normalement obtenir des mesures continues sans interruption 📈. Dans cet atelier, nous souhaitons analyser les relations entre les variables et imputer les données manquantes.\n"
   ]
  },
  {
   "cell_type": "markdown",
   "id": "c56a1038-5677-40eb-802d-4f7cb91df283",
   "metadata": {},
   "source": [
    "## Plan 📑\n",
    "\n",
    "- **1. Introduction** (`01_introduction.ipynb`): Présentation de la problématique et des enjeux.\n",
    "- **2. Traitement des données brutes** (`02_data-engineering.ipynb`): Lecture et nettoyage des données.  \n",
    "- **3. Enrichissement des données** (`03_data-enrichment.ipynb`): Ajout des variables indispensables.\n",
    "- **4. Analyse et visualisations** (`04_data-analysis.ipynb`): Analyse statistique des jeux de données, en termes de corrélation, de saisonnalité et de détection des valeurs aberrantes pour explorer les relations potentielles entre les variables météorologiques et les turbulences.\n",
    "- **5. Méthodes d'imputation** (`05_imputation.ipynb`): Présentation de méthodes d'imputation de base.  \n",
    "- **6. Conclusion** : Discussion sur les résultats obtenus.\n"
   ]
  },
  {
   "cell_type": "markdown",
   "id": "16ea0c14-058c-46bc-9366-a7acbb7e2701",
   "metadata": {},
   "source": [
    "## Turbulence atmosphérique 🌪️\n",
    "\n",
    "La turbulence atmosphérique désigne l'instabilité des mouvements de l'air. Lorsqu'un faisceau laser se propage dans l'atmosphère, son front d'onde est sujet à des distorsions dues à des inhomogénéités dans l'indice de réfraction de l'air. Ces dernières sont causées par des variations de température et de pression. Les effets de ces phénomènes sur un système optique peuvent être quantifiés par des paramètres de vision atmosphérique, tels que la longueur de cohérence atmosphérique (paramètre Fried, r0) et l'angle isoplanatique.\n",
    "\n",
    "**Source**:\n",
    "- [Apprends la science qui sous-tend les quatre principales causes de turbulence](https://parlonssciences.ca/ressources-pedagogiques/les-stim-expliquees/quest-ce-que-la-turbulence-atmospherique#:~:text=La%20turbulence%20en%20air%20clair%20se%20produit%20lorsque%20deux%20masses,de%20l'atmosph%C3%A8re%20appel%C3%A9e%20tropopause).\n"
   ]
  },
  {
   "cell_type": "markdown",
   "id": "e416248f-01d4-4291-a7e5-a4b46bbc3103",
   "metadata": {},
   "source": [
    "## Description du jeu de données \n",
    "\n",
    "1. time: sampling time  datetime64\n",
    "2. d_ext_temp: external temperature, float64\n",
    "3. d_humid: relative humidity, float64\n",
    "4. d_rain_rate：rain rate, float64       \n",
    "5. d_wind: wind speed, float64       \n",
    "6. d_wind_dir: wind direction, 0° North, 180° south, float64       \n",
    "7. __day_r0__: Fried parameter r0 day, float64       \n",
    "8. __day_see__: Day Seeing, float64       \n",
    "9. __day_see_stddev__, float64       \n",
    "10. down_ir: downwelling irrandance, radiation infrared, float64       \n",
    "11. humid: internal humidity, float64       \n",
    "12. irrad: irradance, float64       \n",
    "13. __isoplan__: Night Seeing isoplanetisme angle, Related to scintillation, float64       \n",
    "14. __night_r0__: Fried parameter r0 night, float64       \n",
    "15. __night_see__: Night Seeing, float64       \n",
    "16. press: pression, float64       \n",
    "17. pyr_temp: Pyrgeomete temperature, at 52° elevation, float64       \n",
    "18. __scint__: Scintillation night, float64, 0-255       \n",
    "19. sky_temp: sky temperature, float64       \n",
    "20. status: four catogeries based on status of DIMM: Day time, Cloudy, Night time, Polaris locked $^*$ , string        \n",
    "21. transp: Transparency night, float64, 0-255       \n",
    "22. wat_col_hei: Total Water Column, water vapor, float64    \n",
    "\n",
    "$^*$ : concerne l'étoile Polaris \n",
    "\n",
    "Toutes les données venant de la station météo sont préfixé `d_`.  \n",
    "\n",
    "__en gras__ : les variables caractérisant la turbulence"
   ]
  },
  {
   "cell_type": "code",
   "execution_count": null,
   "id": "e112cdd3-d4a4-4091-9327-e69538f93078",
   "metadata": {},
   "outputs": [],
   "source": []
  }
 ],
 "metadata": {
  "kernelspec": {
   "display_name": "Python 3 (ipykernel)",
   "language": "python",
   "name": "python3"
  },
  "language_info": {
   "codemirror_mode": {
    "name": "ipython",
    "version": 3
   },
   "file_extension": ".py",
   "mimetype": "text/x-python",
   "name": "python",
   "nbconvert_exporter": "python",
   "pygments_lexer": "ipython3",
   "version": "3.10.9"
  }
 },
 "nbformat": 4,
 "nbformat_minor": 5
}
