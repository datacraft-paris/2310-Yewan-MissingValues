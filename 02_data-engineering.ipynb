{
 "cells": [
  {
   "cell_type": "markdown",
   "id": "7a5a3d6d-fbf1-424a-a67e-5b2fbda9ac56",
   "metadata": {},
   "source": [
    "# Data engineering\n",
    "\n",
    "Le but de cette partie est:\n",
    "- Prendre connaissance des données.\n",
    "- Nétoyer les données.\n",
    "- Re-échantilloner les données à une période de 1 minute."
   ]
  },
  {
   "cell_type": "markdown",
   "id": "163bc106-2002-437d-9778-49ae49a9e326",
   "metadata": {},
   "source": [
    "## Initialization"
   ]
  },
  {
   "cell_type": "code",
   "execution_count": null,
   "id": "9603ed8f-d42a-41e2-b1ec-aa167e910886",
   "metadata": {
    "tags": []
   },
   "outputs": [],
   "source": [
    "# std\n",
    "import glob\n",
    "import inspect\n",
    "import json\n",
    "import os\n",
    "# external\n",
    "import matplotlib.pyplot as plt\n",
    "import missingno as msno\n",
    "import numpy as np\n",
    "import pandas as pd\n",
    "import gdown\n",
    "# local\n",
    "from utils import missingDF"
   ]
  },
  {
   "cell_type": "code",
   "execution_count": null,
   "id": "02a6a53c-c6f4-4b7e-980f-b32a938c70d8",
   "metadata": {
    "tags": []
   },
   "outputs": [],
   "source": [
    "# Active la recharge automatique de modules dans un Jupyter Notebook\n",
    "%load_ext autoreload\n",
    "# %autoreload 0 : Désactive la recharge automatique.\n",
    "# %autoreload 1 : Recharge automatiquement les modules importés avec %aimport uniquement.\n",
    "# %autoreload 2 : Recharge tous les modules (sauf ceux exclus par %aimport), à chaque fois que du code est exécuté.\n",
    "%autoreload 2"
   ]
  },
  {
   "cell_type": "markdown",
   "id": "f4d593d5-3a13-4fa8-9f30-8c497a047a4a",
   "metadata": {},
   "source": [
    "## Paramètres"
   ]
  },
  {
   "cell_type": "code",
   "execution_count": null,
   "id": "ee05158c-4c04-467f-95f7-f038c56dfa47",
   "metadata": {
    "tags": [
     "parameters"
    ]
   },
   "outputs": [],
   "source": [
    "dataversion = \"data-2310-Yewan-MissingValues-20231106\"  # Data version.\n",
    "limit_oversampling = 30 # propagation of the values in minute for oversampling all-sky status."
   ]
  },
  {
   "cell_type": "code",
   "execution_count": null,
   "id": "cabf1d18-834c-42e6-a8ef-a2ad4932c18b",
   "metadata": {},
   "outputs": [],
   "source": [
    "data_directory = os.getcwd() + os.sep  + \"data\" + os.sep + dataversion  # Directory where we put the data.\n",
    "path_data_raw = data_directory + os.sep + 'tenerife_2020.csv'  # Path to raw data.\n",
    "path_label = data_directory + os.sep + 'result.csv' # Path of the label recoverd from all-sky camera.\n",
    "path_data_1m = data_directory + os.sep + \"tenerife_2020_1m.csv\" # Path of the output file.\n",
    "cols_nametypes = [\n",
    "    ('time', \"string\"),\n",
    "    ('status', \"string\"),\n",
    "    ('d_ext_temp', 'float32'),\n",
    "    ('d_humid', 'float32'),\n",
    "    ('d_rain_rate', 'float32'),\n",
    "    ('d_wind', 'float32'),\n",
    "    ('d_wind_dir', 'float32'),\n",
    "    ('day_r0', 'float32'),\n",
    "    ('day_see', 'float32'),\n",
    "    ('day_see_stddev', 'float32'), \n",
    "    ('down_ir', 'float32'),\n",
    "    ('humid', 'float32'),\n",
    "    ('irrad', 'float32'),\n",
    "    ('isoplan', 'float32'),\n",
    "    ('night_r0', 'float32'),\n",
    "    ('night_see', 'float32'),\n",
    "    ('press', 'float32'),\n",
    "    ('pyr_temp', 'float32'),\n",
    "    ('scint', 'float32'),\n",
    "    ('sky_temp', 'float32'),\n",
    "    ('transp', 'float32'),\n",
    "    ('wat_col_hei', 'float32')\n",
    "]  # Variables in raw data\n",
    "cols_names = [i[0] for i in cols_nametypes]\n",
    "column_types = [i[1] for i in cols_nametypes]"
   ]
  },
  {
   "cell_type": "markdown",
   "id": "f806bd40-ffc2-43eb-bf05-294af1a8ee42",
   "metadata": {},
   "source": [
    "## Fonctions pour facililter le traitement"
   ]
  },
  {
   "cell_type": "markdown",
   "id": "8b9df5f9-1e53-413f-984c-8afed090e472",
   "metadata": {},
   "source": [
    "`missingDF` pour afficher le pourcentage de valeurs manquantes"
   ]
  },
  {
   "cell_type": "code",
   "execution_count": null,
   "id": "651766b9-78ab-4274-acc7-67ed90ac5f5e",
   "metadata": {
    "tags": []
   },
   "outputs": [],
   "source": [
    "print(inspect.getsource(missingDF))"
   ]
  },
  {
   "cell_type": "markdown",
   "id": "1f606b3b-f60b-4eae-9265-10a4071263f9",
   "metadata": {},
   "source": [
    "## Données météorologique"
   ]
  },
  {
   "cell_type": "markdown",
   "id": "8c5bdfac-a02c-44e9-8c94-21468897522c",
   "metadata": {},
   "source": [
    "### Téléchargement des données"
   ]
  },
  {
   "cell_type": "code",
   "execution_count": null,
   "id": "acc89f05-6fba-4075-8c79-7f3518d458bf",
   "metadata": {
    "tags": []
   },
   "outputs": [],
   "source": [
    "if not os.path.isdir(data_directory):\n",
    "    url = \"https://drive.google.com/drive/folders/1DLXwAVHCKarucsmaKhQSP786Sws5nWDw\"\n",
    "    gdown.download_folder(url, quiet=False, use_cookies=False, output=data_directory)\n",
    "else:\n",
    "    print(\"Data already downloaded.\")"
   ]
  },
  {
   "cell_type": "markdown",
   "id": "2e829a49-4745-411c-a4a6-2a894f7225c5",
   "metadata": {},
   "source": [
    "### Vérification que les données on bien était téléchargé"
   ]
  },
  {
   "cell_type": "code",
   "execution_count": null,
   "id": "4d0d8787-1837-4849-9f36-2cc1cbd027ff",
   "metadata": {},
   "outputs": [],
   "source": [
    "l_dataset = glob.glob(\"data\" + os.sep + \"*\" + os.sep + \"*.csv\")\n",
    "\n",
    "if len(l_dataset) == 0:\n",
    "    print(\"ERREUR: il n'y a pas de données\") \n",
    "    raise\n",
    "else:\n",
    "    for i in l_dataset:\n",
    "        print(i)"
   ]
  },
  {
   "cell_type": "code",
   "execution_count": null,
   "id": "fd0eb331-fd41-4f9b-8d30-b4792459133f",
   "metadata": {},
   "outputs": [],
   "source": [
    "dtype = dict(zip(cols_names, column_types))\n",
    "df = pd.read_csv(path_data_raw, usecols=cols_names, dtype=dtype)\n",
    "#df.replace(0, np.nan, inplace=True)\n",
    "#df.replace([np.inf, -np.inf], np.nan, inplace=True)\n",
    "df['time'] = pd.to_datetime(df['time'], unit=\"ns\")"
   ]
  },
  {
   "cell_type": "code",
   "execution_count": null,
   "id": "ee6660eb-6663-4764-8397-06be63284e70",
   "metadata": {
    "tags": []
   },
   "outputs": [],
   "source": [
    "plt.plot(df.time, df.d_ext_temp)\n",
    "plt.title(\"temperature\")\n",
    "plt.show()"
   ]
  },
  {
   "cell_type": "code",
   "execution_count": null,
   "id": "bf13bf36-76e4-45db-ac76-62abc3cb430a",
   "metadata": {
    "tags": []
   },
   "outputs": [],
   "source": [
    "n_raw = len(df)\n",
    "print(f\"Le nombre de ligne du dataset est {n_raw/1000} milles\")"
   ]
  },
  {
   "cell_type": "markdown",
   "id": "e9b193a9-a681-4596-9df1-dd8f8b744fbd",
   "metadata": {},
   "source": [
    "On séléctionne un échantillon de donnnées de 5 éléments"
   ]
  },
  {
   "cell_type": "code",
   "execution_count": null,
   "id": "ebdb9e54-5e13-48be-b497-cfb3a25dda9c",
   "metadata": {
    "tags": []
   },
   "outputs": [],
   "source": [
    "d_month = (df.time.max()-df.time.min()).days/30\n",
    "print(f\"Les données sont réparties sur {d_month:.0f} mois.\")"
   ]
  },
  {
   "cell_type": "code",
   "execution_count": null,
   "id": "532883e1-5af4-462a-8952-9f3d27e92511",
   "metadata": {},
   "outputs": [],
   "source": [
    "df.sample(5).T"
   ]
  },
  {
   "cell_type": "markdown",
   "id": "c3dd38e1-4d06-4e8c-9fc6-1aaeaa8bfc9c",
   "metadata": {},
   "source": [
    "On regarde de plus prés les valeurs manquantes avec la fonction `missingDF`."
   ]
  },
  {
   "cell_type": "code",
   "execution_count": null,
   "id": "e7b8597a-1031-45c6-a7dc-1716357f2f48",
   "metadata": {},
   "outputs": [],
   "source": [
    "missingDF(df)"
   ]
  },
  {
   "cell_type": "markdown",
   "id": "964690e5-2dd0-40bc-8065-e52bef97b2dd",
   "metadata": {},
   "source": [
    "Les valeurs qui nous interesse `night_r0` et `day_r0` on environ $75$% de valeurs manquantes."
   ]
  },
  {
   "cell_type": "markdown",
   "id": "c40e389e-6fbd-40fb-ba5e-b1e8763be627",
   "metadata": {},
   "source": [
    "### Nétoyage des doublons"
   ]
  },
  {
   "cell_type": "code",
   "execution_count": null,
   "id": "a4aa1544-300e-432c-81be-22e43cf8c697",
   "metadata": {
    "tags": []
   },
   "outputs": [],
   "source": [
    "n_dupli = sum(df.duplicated())\n",
    "print(f\"Il y a {n_dupli} ligne dupliqué.\")"
   ]
  },
  {
   "cell_type": "code",
   "execution_count": null,
   "id": "03e297b3-0828-4777-884a-24059150e482",
   "metadata": {},
   "outputs": [],
   "source": [
    "df = df[~df.time.duplicated()]"
   ]
  },
  {
   "cell_type": "code",
   "execution_count": null,
   "id": "bb6c4f54-454a-4e54-b1cd-341fcb3bfd4b",
   "metadata": {
    "tags": []
   },
   "outputs": [],
   "source": [
    "n_ddupli = len(df)\n",
    "print(f\"Maintenant le dataset contient {n_ddupli/1000} milles lignes.\")"
   ]
  },
  {
   "cell_type": "markdown",
   "id": "a1696835-891b-4cac-98b7-ea640b70e3ae",
   "metadata": {},
   "source": [
    "### Définition d'un index temporelle"
   ]
  },
  {
   "cell_type": "code",
   "execution_count": null,
   "id": "464eca8a-52d2-4753-8bfc-fa84f70e39c6",
   "metadata": {
    "tags": []
   },
   "outputs": [],
   "source": [
    "df.index = df['time']\n",
    "df.drop('time', axis=1, inplace=True)"
   ]
  },
  {
   "cell_type": "code",
   "execution_count": null,
   "id": "629deede-bd64-4ca2-8084-12f26bd6a23f",
   "metadata": {
    "tags": []
   },
   "outputs": [],
   "source": [
    "ax = df[['day_r0', \"night_r0\", \"d_ext_temp\"]].plot()"
   ]
  },
  {
   "cell_type": "markdown",
   "id": "7a0c37e2-e9eb-4f76-b0d5-b104f1c2761f",
   "metadata": {},
   "source": [
    "### Les valeurs manquantes\n",
    "\n",
    "Nous allons observer de plus près les valeurs manquantes."
   ]
  },
  {
   "cell_type": "code",
   "execution_count": null,
   "id": "fab3b11f-f058-45ef-be39-cff59a1edef8",
   "metadata": {},
   "outputs": [],
   "source": [
    "missing_df = missingDF(df)\n",
    "print('Dataframe des variables associées leurs taux de valeurs manquantes')\n",
    "print(missing_df)"
   ]
  },
  {
   "cell_type": "markdown",
   "id": "7139fb13-4e3f-4332-ac67-6b08fda4c08b",
   "metadata": {},
   "source": [
    "Visualisation des données manquantes sur 12 mois."
   ]
  },
  {
   "cell_type": "code",
   "execution_count": null,
   "id": "6d6bdb0c-8f2d-4e9c-b725-1415926a5475",
   "metadata": {},
   "outputs": [],
   "source": [
    "cols = sorted(df.columns.tolist())\n",
    "ax = msno.matrix(df[cols])"
   ]
  },
  {
   "cell_type": "markdown",
   "id": "84c9ac61-04c6-4503-8c63-b9b9e58616d4",
   "metadata": {},
   "source": [
    "Visulisation des données manquates pour le moi de juillet"
   ]
  },
  {
   "cell_type": "code",
   "execution_count": null,
   "id": "50dd8a9e-2460-4e97-9604-a0d0df15bf79",
   "metadata": {},
   "outputs": [],
   "source": [
    "cols = sorted(df.columns.tolist())\n",
    "ax = msno.matrix(df[cols][df.index.month == 7]) # pour juillet"
   ]
  },
  {
   "cell_type": "markdown",
   "id": "f7e1c2d7-2f37-4a52-a9d0-bf6deb349a0a",
   "metadata": {},
   "source": [
    "La variable `isoplan` est toujours nulle donc nous allons la retirer."
   ]
  },
  {
   "cell_type": "code",
   "execution_count": null,
   "id": "d2eb3aaf-980e-4c73-a237-a2d520bf040b",
   "metadata": {},
   "outputs": [],
   "source": [
    "df = df.drop(['isoplan'],axis=1)"
   ]
  },
  {
   "cell_type": "markdown",
   "id": "d9294ddb-6aa5-47d3-8ce3-35b0503d4c69",
   "metadata": {},
   "source": [
    "On considère que les valeurs NaN dans la variable `d_rain_rate corresponde à des jours ou il n'y a pas de pluits"
   ]
  },
  {
   "cell_type": "code",
   "execution_count": null,
   "id": "3fb258f5-baa4-455b-890b-a1a47a89ca61",
   "metadata": {
    "tags": []
   },
   "outputs": [],
   "source": [
    "mask = df.d_rain_rate.isnull()\n",
    "df.loc[mask, \"d_rain_rate\"] = 0"
   ]
  },
  {
   "cell_type": "markdown",
   "id": "035c21e5-5190-4fbd-904c-05f49cd83d8f",
   "metadata": {},
   "source": [
    "### Encodage du status du DIMM\n",
    "\n",
    "La variable `status` indique l'état opérationnel du DIMM.  "
   ]
  },
  {
   "cell_type": "markdown",
   "id": "20257859-166f-4c42-b2da-b174130ae977",
   "metadata": {},
   "source": [
    "#### Encodage à l'aide d'entiés"
   ]
  },
  {
   "cell_type": "markdown",
   "id": "397b9356-f733-4a96-aa56-f5322c5b56c6",
   "metadata": {},
   "source": [
    "Encode l'objet en tant que type énuméré ou variable catégorique.\n",
    "Cette méthode est utile pour obtenir une représentation numérique d'un tableau lorsque tout ce qui compte est d'identifier des valeurs distinctes.\n",
    "Cette approche est dynamique, donc même si de nouvelles valeurs de statut sont ajoutées à la colonne à l'avenir, elles se verront automatiquement attribuer des valeurs numériques uniques.\n",
    "Pour plus d'information voir la documentation: https://pandas.pydata.org/pandas-docs/version/1.5/reference/api/pandas.factorize.html"
   ]
  },
  {
   "cell_type": "code",
   "execution_count": null,
   "id": "b90f00ca-53e7-4fa9-a7c4-57310b6a671d",
   "metadata": {},
   "outputs": [],
   "source": [
    "numeric_values, unique_statuses = pd.factorize(df['status'], use_na_sentinel=-1)\n",
    "# na_sentinel=-1 means NaNs are assigned -1, then we add 1 to shift everything so NaNs become 0\n",
    "df['dimm_numeric'] = numeric_values + 1 \n",
    "\n",
    "# Create a mapping dictionary\n",
    "status_mapping = dict(enumerate(unique_statuses))\n",
    "# Shift dictionary keys by 1 to account for NaN becoming 0\n",
    "status_mapping = {k+1: v for k, v in status_mapping.items()}\n",
    "status_mapping[0] = np.nan\n",
    "print(status_mapping)"
   ]
  },
  {
   "cell_type": "code",
   "execution_count": null,
   "id": "195bda61-27b0-4b5d-be52-978642d5dfec",
   "metadata": {
    "tags": []
   },
   "outputs": [],
   "source": [
    "with open('dimm.json', 'w') as f:\n",
    "    json.dump(status_mapping, f)"
   ]
  },
  {
   "cell_type": "markdown",
   "id": "e2f0ac72-e08f-486f-a307-380e6962fd3d",
   "metadata": {},
   "source": [
    "#### Encodage avec une matrice de binaire"
   ]
  },
  {
   "cell_type": "code",
   "execution_count": null,
   "id": "cfe49639-6770-42bc-bdbf-c2b9fa33ab5d",
   "metadata": {
    "tags": []
   },
   "outputs": [],
   "source": [
    "df_dimm = pd.get_dummies(df.status.fillna(\"Unknown\")).copy()\n",
    "df_dimm.columns = [\"dimm_\" + i.lower().split(\" \")[0].lower() for i in df_dimm.columns.tolist()]"
   ]
  },
  {
   "cell_type": "code",
   "execution_count": null,
   "id": "7f6d9c27-d5f8-4fe5-a8e3-1daa2c99152f",
   "metadata": {
    "tags": []
   },
   "outputs": [],
   "source": [
    "df = pd.merge(df, df_dimm, left_index=True, right_index=True)"
   ]
  },
  {
   "cell_type": "markdown",
   "id": "540e8c2e-4515-417b-b231-9bd42b62a72a",
   "metadata": {},
   "source": [
    "On enlève status pour facilter la manipulation des données"
   ]
  },
  {
   "cell_type": "code",
   "execution_count": null,
   "id": "b0480b1b-9072-44c8-8171-8b562678ef4c",
   "metadata": {
    "tags": []
   },
   "outputs": [],
   "source": [
    "df.drop(\"status\", axis=1, inplace=True)"
   ]
  },
  {
   "cell_type": "markdown",
   "id": "482a0e02-28f9-466b-a7d8-00ac0129e3cc",
   "metadata": {},
   "source": [
    "### Re-échantillonage"
   ]
  },
  {
   "cell_type": "code",
   "execution_count": null,
   "id": "3cf00616-e0c0-444e-80be-2ba113ca8802",
   "metadata": {
    "tags": []
   },
   "outputs": [],
   "source": [
    "df = df.astype(float)"
   ]
  },
  {
   "cell_type": "code",
   "execution_count": null,
   "id": "7c359bbb-eff9-47c6-802e-213b36f8b348",
   "metadata": {
    "tags": []
   },
   "outputs": [],
   "source": [
    "df = df.resample('1T').mean()"
   ]
  },
  {
   "cell_type": "markdown",
   "id": "9e143edb-8dbd-4c5c-8b9a-e4a96e0cbf38",
   "metadata": {},
   "source": [
    "## Données caméra all-sky"
   ]
  },
  {
   "cell_type": "markdown",
   "id": "f0903bad-60b0-45af-8757-077abca43a29",
   "metadata": {},
   "source": [
    "On ajouter les données de notre modèle d'analyse d'image pour la detection d'événement climatique.\n",
    "\n",
    "Les classes detecté sont les suivantes:"
   ]
  },
  {
   "cell_type": "code",
   "execution_count": null,
   "id": "85355d7d-4c36-472b-818b-a6ee359a73a5",
   "metadata": {
    "tags": []
   },
   "outputs": [],
   "source": [
    "states_name = {\n",
    "    \"c0\": \"night\", \n",
    "    \"c1\": \"sunny\", \n",
    "    \"c2\": \"cloud\", \n",
    "    \"c3\": \"fog\", \n",
    "    \"c4\": \"rain\", \n",
    "    \"c5\": \"foreign\", \n",
    "    \"c6\": \"freeze\"\n",
    "}"
   ]
  },
  {
   "cell_type": "markdown",
   "id": "4d05838c-8886-4bf0-8de9-0001fddfa530",
   "metadata": {},
   "source": [
    "### Lecture des données"
   ]
  },
  {
   "cell_type": "code",
   "execution_count": null,
   "id": "4d1784ec-b338-499d-bee4-903db2246d68",
   "metadata": {},
   "outputs": [],
   "source": [
    "df_states = pd.read_csv(path_label, usecols=['utc', 'c0', 'c1', 'c2','c3', 'c4', 'c5', 'c6'])\n",
    "df_states['utc'] = pd.to_datetime(df_states['utc'], unit=\"ns\")\n",
    "df_states.index = df_states['utc']\n",
    "df_states.drop('utc', axis=1, inplace=True)\n",
    "old2new = {}\n",
    "for i in range(len(states_name)):\n",
    "    old2new[f\"c{i}\"] = \"cam_\" + states_name[f\"c{i}\"]\n",
    "df_states.rename(columns=old2new, inplace=True)\n",
    "\n",
    "display(df_states.index.min())\n",
    "display(df_states.index.max())\n",
    "\n",
    "display(df_states.head(5))\n",
    "\n",
    "display(df_states.describe())"
   ]
  },
  {
   "cell_type": "markdown",
   "id": "63354631-0874-4f63-8d1c-5689fb30dba7",
   "metadata": {},
   "source": [
    "### Netoyage des données"
   ]
  },
  {
   "cell_type": "code",
   "execution_count": null,
   "id": "07771acf-7800-4f61-ade1-9ad9c6735b1f",
   "metadata": {},
   "outputs": [],
   "source": [
    "mask = (df_states.describe().T['unique'] == 2).copy()\n",
    "col_to_keep = df_states.describe().T['unique'][mask].index.tolist()\n",
    "df_states = df_states[col_to_keep].copy()\n",
    "df_states = df_states.astype(float)"
   ]
  },
  {
   "cell_type": "markdown",
   "id": "7ea30d3b-fb49-4f02-bb71-3da6f691733c",
   "metadata": {},
   "source": [
    "### Re-échantillonage"
   ]
  },
  {
   "cell_type": "code",
   "execution_count": null,
   "id": "c329b38c-2d54-4911-b48c-f23e021a2687",
   "metadata": {
    "tags": []
   },
   "outputs": [],
   "source": [
    "df_states = df_states.resample(\"1T\").nearest(limit=limit_oversampling)"
   ]
  },
  {
   "cell_type": "code",
   "execution_count": null,
   "id": "92c5c5a8-c928-48e8-890f-a8ca75feaf12",
   "metadata": {
    "tags": []
   },
   "outputs": [],
   "source": [
    "df_states.info()"
   ]
  },
  {
   "cell_type": "code",
   "execution_count": null,
   "id": "de38c0d7-4e56-40d7-a168-fc112f449d9f",
   "metadata": {
    "tags": []
   },
   "outputs": [],
   "source": [
    "df_states.describe()"
   ]
  },
  {
   "cell_type": "code",
   "execution_count": null,
   "id": "73427d40-8fea-446f-8842-7584725548ca",
   "metadata": {
    "tags": []
   },
   "outputs": [],
   "source": [
    "off = 60*24*10\n",
    "ax = df_states[off:60*24+off].plot()"
   ]
  },
  {
   "cell_type": "markdown",
   "id": "6a6a2786-c369-4ce1-b51b-05c2b6da10e5",
   "metadata": {},
   "source": [
    "### Jointure avec le dataframe principal                                                "
   ]
  },
  {
   "cell_type": "code",
   "execution_count": null,
   "id": "e2c62bec-5eb8-46e6-a358-938f6d2af7c4",
   "metadata": {},
   "outputs": [],
   "source": [
    "df = df.merge(df_states, left_index=True, right_index=True, how='outer')"
   ]
  },
  {
   "cell_type": "code",
   "execution_count": null,
   "id": "16a2edf6-c863-443c-bc01-728f24a58407",
   "metadata": {
    "tags": []
   },
   "outputs": [],
   "source": [
    "df.head(5).T"
   ]
  },
  {
   "cell_type": "code",
   "execution_count": null,
   "id": "d3b3eb8b-ae87-4829-a452-0efc23b8e568",
   "metadata": {
    "tags": []
   },
   "outputs": [],
   "source": [
    "missingDF(df)"
   ]
  },
  {
   "cell_type": "markdown",
   "id": "eef806bc-89ef-41da-a519-84b28642df4b",
   "metadata": {},
   "source": [
    "## Un dataframe plus facile à manipuler"
   ]
  },
  {
   "cell_type": "code",
   "execution_count": null,
   "id": "90854fd9-a10b-487f-8f70-8fb02be5d271",
   "metadata": {
    "tags": []
   },
   "outputs": [],
   "source": [
    "df.sample(5).T"
   ]
  },
  {
   "cell_type": "code",
   "execution_count": null,
   "id": "a871f3ba-19d7-4dcb-85f3-c0265be67aa8",
   "metadata": {
    "tags": []
   },
   "outputs": [],
   "source": [
    "cols = sorted(df.columns.tolist())\n",
    "ax = msno.matrix(df[cols])"
   ]
  },
  {
   "cell_type": "code",
   "execution_count": null,
   "id": "fb499b40-3929-4c1c-b249-9f0d31758066",
   "metadata": {
    "tags": []
   },
   "outputs": [],
   "source": [
    "ax = df[\"d_ext_temp\"].plot()"
   ]
  },
  {
   "cell_type": "code",
   "execution_count": null,
   "id": "3014644e-d101-4cb4-a149-c43cb5bc6113",
   "metadata": {
    "tags": []
   },
   "outputs": [],
   "source": [
    "df.index.name = \"time\"\n",
    "df.to_csv(path_data_1m, index=True)"
   ]
  }
 ],
 "metadata": {
  "kernelspec": {
   "display_name": "Python 3 (ipykernel)",
   "language": "python",
   "name": "python3"
  },
  "language_info": {
   "codemirror_mode": {
    "name": "ipython",
    "version": 3
   },
   "file_extension": ".py",
   "mimetype": "text/x-python",
   "name": "python",
   "nbconvert_exporter": "python",
   "pygments_lexer": "ipython3",
   "version": "3.10.12"
  }
 },
 "nbformat": 4,
 "nbformat_minor": 5
}
