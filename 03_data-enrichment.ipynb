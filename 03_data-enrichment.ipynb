{
 "cells": [
  {
   "cell_type": "markdown",
   "id": "24a9f419-e758-4da0-9c93-110f906b9ddf",
   "metadata": {},
   "source": [
    "# Ajout de Variables Supplémentaires 📊\n",
    "\n",
    "Ajout de modalités supplémentaires à l'ensemble de données de séries temporelles existant.\n",
    "\n",
    "Nous utilisons le package `pandarallel` pour accélérer les calculs de l'angle du soleil.  "
   ]
  },
  {
   "cell_type": "markdown",
   "id": "87da8122-54d3-41be-b336-d0a7499b0da1",
   "metadata": {},
   "source": [
    "## Initialisation"
   ]
  },
  {
   "cell_type": "markdown",
   "id": "9cb5aff2-8d73-4be8-9a29-0c4f1e3acf9d",
   "metadata": {},
   "source": [
    "### Importation des packages pythons"
   ]
  },
  {
   "cell_type": "code",
   "execution_count": null,
   "id": "be82f6c6-d689-41cc-b00c-0db13456d169",
   "metadata": {},
   "outputs": [],
   "source": [
    "# std\n",
    "import os\n",
    "import inspect\n",
    "import json\n",
    "# external\n",
    "import numpy as np\n",
    "import pandas as pd\n",
    "from pandarallel import pandarallel\n",
    "import missingno as msno\n",
    "# local\n",
    "from utils import get_astro_sunAlt"
   ]
  },
  {
   "cell_type": "code",
   "execution_count": null,
   "id": "6552b760-94d1-43b4-93d6-255975829b5b",
   "metadata": {
    "tags": []
   },
   "outputs": [],
   "source": [
    "# Active la recharge automatique de modules dans un Jupyter Notebook\n",
    "%load_ext autoreload\n",
    "# %autoreload 0 : Désactive la recharge automatique.\n",
    "# %autoreload 1 : Recharge automatiquement les modules importés avec %aimport uniquement.\n",
    "# %autoreload 2 : Recharge tous les modules (sauf ceux exclus par %aimport), à chaque fois que du code est exécuté.\n",
    "%autoreload 2"
   ]
  },
  {
   "cell_type": "markdown",
   "id": "c9905b3d-86ad-46ae-8f30-b7a6f7ae0819",
   "metadata": {},
   "source": [
    "### Configuration des packages"
   ]
  },
  {
   "cell_type": "code",
   "execution_count": null,
   "id": "44215ff5-331e-40f2-9d62-b75803739713",
   "metadata": {},
   "outputs": [],
   "source": [
    "pandarallel.initialize(progress_bar=True)"
   ]
  },
  {
   "cell_type": "markdown",
   "id": "e7e62a04-1584-480f-94a7-72938305aeaf",
   "metadata": {},
   "source": [
    "### Paramètres"
   ]
  },
  {
   "cell_type": "code",
   "execution_count": null,
   "id": "7ace79cb-a9d9-42cb-a81f-278220cb09fc",
   "metadata": {
    "tags": [
     "parameters"
    ]
   },
   "outputs": [],
   "source": [
    "dataversion = \"data-2310-Yewan-MissingValues-20231106\"  # Data version.\n",
    "force_sun = False # If we should force to run sun position (could be long)\n",
    "n_samples = None # For debugging use n_sample >= n_cpu or None"
   ]
  },
  {
   "cell_type": "code",
   "execution_count": null,
   "id": "c3586523-5551-4030-8a6f-7dcc826572db",
   "metadata": {},
   "outputs": [],
   "source": [
    "data_directory = os.getcwd() + os.sep  + \"data\" + os.sep + dataversion  # Directory where we put the data.\n",
    "path_data_1m = data_directory + os.sep + \"tenerife_2020_1m.csv\" # Path of the 1 minute sampled data.\n",
    "path_data_sun1m = data_directory + os.sep + \"tenerife_2020_sun1m.csv\" # Path of the 1 minute sampled data with sun altitude.\n",
    "path_data_ext =  data_directory + os.sep + 'tenerife2020_extended.csv'  # Path to extended dataset.\n",
    "location = \"tenerife\" # Localisation of the ISM.  \n",
    "dic_location = {\n",
    "    'tenerife': {\n",
    "        'lat': 28.3005372, \n",
    "        'lon': -16.513448, \n",
    "        'height': 731, \n",
    "        'timezone': 'Atlantic/Canary'\n",
    "    }\n",
    "}"
   ]
  },
  {
   "cell_type": "code",
   "execution_count": null,
   "id": "1e1579f3-81ad-4400-aeba-df26f8f00128",
   "metadata": {},
   "outputs": [],
   "source": [
    "if n_samples:\n",
    "    # Change output file in order to keep preprocessed data\n",
    "    path_data_sun1m = path_data_sun1m.replace(\"_sun1m.csv\", f\"_sun1m{n_samples}.csv\")\n",
    "    path_data_ext = path_data_ext.replace(\"_extended.csv\", f\"_extended{n_samples}.csv\")"
   ]
  },
  {
   "cell_type": "markdown",
   "id": "02e5a77a-4723-45e9-9af6-47205904fa54",
   "metadata": {},
   "source": [
    "### Fonctions pour faciliter le traitement"
   ]
  },
  {
   "cell_type": "code",
   "execution_count": null,
   "id": "cd6612f9-447b-40ca-9ba8-3f43e1a3facc",
   "metadata": {
    "tags": []
   },
   "outputs": [],
   "source": [
    "print(inspect.getsource(get_astro_sunAlt))"
   ]
  },
  {
   "cell_type": "code",
   "execution_count": null,
   "id": "0b2e3e3a-1ba2-42d2-b4a4-ce73789a0dfe",
   "metadata": {},
   "outputs": [],
   "source": []
  },
  {
   "cell_type": "markdown",
   "id": "79ab2ea8-acc3-48e1-8ff4-f4024dc4ebe6",
   "metadata": {},
   "source": [
    "## Lecture des données échantilloner à 1 minute"
   ]
  },
  {
   "cell_type": "code",
   "execution_count": null,
   "id": "716a4e2b-eed1-47a5-bb66-69ab644deead",
   "metadata": {},
   "outputs": [],
   "source": [
    "df = pd.read_csv(path_data_1m, index_col=\"time\")\n",
    "df.index = pd.to_datetime(df.index)"
   ]
  },
  {
   "cell_type": "markdown",
   "id": "a8f66421-14fe-44de-bd5d-58f900d98685",
   "metadata": {},
   "source": [
    "### Si besoin reduction du nombre de données pour aller plus vite"
   ]
  },
  {
   "cell_type": "code",
   "execution_count": null,
   "id": "f16553c3-46fe-443a-b9b1-891d808240d0",
   "metadata": {},
   "outputs": [],
   "source": [
    "# Reducing the number of row if needed (for dev)\n",
    "if n_samples:\n",
    "    df = df.sample(n_samples).copy()\n",
    "else:\n",
    "    n_samples = len(df)"
   ]
  },
  {
   "cell_type": "markdown",
   "id": "0ece4e39-9c7b-4075-a5c0-e1b3254ac8ae",
   "metadata": {},
   "source": [
    "### Vérification des données lus"
   ]
  },
  {
   "cell_type": "code",
   "execution_count": null,
   "id": "f9568038-359f-4be4-9b0a-0aea4adbdb51",
   "metadata": {},
   "outputs": [],
   "source": [
    "df.info()"
   ]
  },
  {
   "cell_type": "code",
   "execution_count": null,
   "id": "b270b356-bae0-4e20-813d-24b98c38b434",
   "metadata": {},
   "outputs": [],
   "source": [
    "df.sample(min(5, n_samples)).T"
   ]
  },
  {
   "cell_type": "markdown",
   "id": "e10d5694-450d-43bf-b8ea-a42f34c4fabc",
   "metadata": {},
   "source": [
    "## Création de nouvelle variables\n",
    "\n",
    "Ajout de caractéristiques supplémentaires à l'ensemble de données de séries temporelles existant, afin d'améliorer la performance de prédiction du modèle de prédiction.\n",
    "- Ajouter l'altitude du soleil\n",
    "- Ajouter la temporalité : mois, saison, heure de la journée\n",
    "\n",
    "L'ajout du calcul de la position au soleil peux être long. Si c'est le cas le fichier pré-processer peux être utilisé.  "
   ]
  },
  {
   "cell_type": "markdown",
   "id": "eb0231cc-c543-4913-9245-e1666a2b8f59",
   "metadata": {},
   "source": [
    "### Ajouter l'altitude du soleil\n",
    "\n",
    "L'altitude du soleil : Indicateur crucial pour les variations thermiques, et détermine le jour et la nuit.\n",
    "\n",
    "Calculer l'altitude du soleil est computationnellement intensif, le calcul parallèle est envisagé pour accélérer le calcul.\n"
   ]
  },
  {
   "cell_type": "code",
   "execution_count": null,
   "id": "3b339205-fa5c-4858-96db-0a9ec14a540b",
   "metadata": {
    "tags": []
   },
   "outputs": [],
   "source": [
    "def get_sunalt(x):\n",
    "    ''' Wrapper for use with pandarallel '''\n",
    "    return get_astro_sunAlt(dic_location[location], x)\n",
    "\n",
    "# force_sun = True\n",
    "\n",
    "if os.path.isfile(path_data_sun1m) and not force_sun:\n",
    "    df = pd.read_csv(path_data_sun1m, index_col=\"time\")\n",
    "    df.index = pd.to_datetime(df.index)\n",
    "else:\n",
    "    df['time'] = df.index\n",
    "    df['sun_alt'] = df[\"time\"].parallel_apply(get_sunalt)\n",
    "    df.drop(\"time\", axis=1, inplace=True)\n",
    "    df.to_csv(path_data_sun1m, index=True)"
   ]
  },
  {
   "cell_type": "markdown",
   "id": "f4846873-7dc0-42de-9889-2b9b1eaa4caa",
   "metadata": {},
   "source": [
    "### Temporalité"
   ]
  },
  {
   "cell_type": "code",
   "execution_count": null,
   "id": "875da1a0-7b5f-4bff-93bc-2730e5c11af4",
   "metadata": {},
   "outputs": [],
   "source": [
    "df['hour_of_day'] = df.index.hour\n",
    "df['month'] = df.index.month\n",
    "df['season'] = (df['month'] % 12 + 3) // 3  # 1: Winter, 2: Spring, 3: Summer, 4: Fall\n",
    "season_decode = {\n",
    "    \"1\": \"Hiver\",\n",
    "    \"2\": \"Printemp\",\n",
    "    \"3\": \"Été\",\n",
    "    \"4\": \"Automne\"\n",
    "}"
   ]
  },
  {
   "cell_type": "code",
   "execution_count": null,
   "id": "45d76c91-90bb-463d-ba9f-45f2272baf74",
   "metadata": {},
   "outputs": [],
   "source": [
    "with open('season.json', 'w') as f:\n",
    "    json.dump(season_decode, f)"
   ]
  },
  {
   "cell_type": "markdown",
   "id": "7b17b48e-1d5f-4dea-bae2-61d22666e810",
   "metadata": {},
   "source": [
    "## Vérification"
   ]
  },
  {
   "cell_type": "markdown",
   "id": "3e2f8388-9b72-4b15-96cc-612c6ff3cf7d",
   "metadata": {},
   "source": [
    "### Statistique descriptives"
   ]
  },
  {
   "cell_type": "code",
   "execution_count": null,
   "id": "1941d4ca-663e-45e3-95c9-14e594a71585",
   "metadata": {},
   "outputs": [],
   "source": [
    "df.info()"
   ]
  },
  {
   "cell_type": "code",
   "execution_count": null,
   "id": "e609902d-a318-4e81-8f47-f83f1878355b",
   "metadata": {},
   "outputs": [],
   "source": [
    "df.describe(include=\"all\").T"
   ]
  },
  {
   "cell_type": "markdown",
   "id": "07dd566d-ee7f-4ece-b3dd-b9a41bd6d491",
   "metadata": {},
   "source": [
    "### Vizualisation"
   ]
  },
  {
   "cell_type": "code",
   "execution_count": null,
   "id": "ac9dbc39-7e97-4fa3-87cb-d5b8e828953f",
   "metadata": {},
   "outputs": [],
   "source": [
    "ax = df.month.plot(style='.', title=\"month\")"
   ]
  },
  {
   "cell_type": "code",
   "execution_count": null,
   "id": "541aec1f-2f85-41f6-ae8f-cf15eba18e1c",
   "metadata": {},
   "outputs": [],
   "source": [
    "ax = df.hour_of_day.plot(style='.', title=\"hour\")"
   ]
  },
  {
   "cell_type": "code",
   "execution_count": null,
   "id": "c3856bf7-4840-4a89-842f-9eb7c29c28e7",
   "metadata": {},
   "outputs": [],
   "source": [
    "ax = df.season.plot(style='.', title=\"season\")\n",
    "print(season_decode)"
   ]
  },
  {
   "cell_type": "code",
   "execution_count": null,
   "id": "b2bf07de-9fae-4e3c-b2a6-f1ec9cf3a50f",
   "metadata": {
    "tags": []
   },
   "outputs": [],
   "source": [
    "ax = df.sun_alt.plot(style='.', title=\"orientation du soleil\")"
   ]
  },
  {
   "cell_type": "code",
   "execution_count": null,
   "id": "5f557a65-5d5c-4b7d-94c0-35646349c0e1",
   "metadata": {},
   "outputs": [],
   "source": [
    "off_d = 3\n",
    "off = off_d*24*60\n",
    "ax = df.iloc[off:off+60*24*2].sun_alt.plot(style='-.',title=\"orientation du soleil\")"
   ]
  },
  {
   "cell_type": "code",
   "execution_count": null,
   "id": "5f09286a-fa85-476d-9264-571fc744ef51",
   "metadata": {
    "tags": []
   },
   "outputs": [],
   "source": [
    "cols = sorted(df.columns.tolist())\n",
    "ax = msno.matrix(df[cols])"
   ]
  },
  {
   "cell_type": "markdown",
   "id": "91cb1c24-2ae8-4f9b-964e-385158c24628",
   "metadata": {},
   "source": [
    "## Échantillon de test"
   ]
  },
  {
   "cell_type": "code",
   "execution_count": null,
   "id": "bf2ac5f3-4243-48b5-892a-0bc4629ec088",
   "metadata": {
    "tags": []
   },
   "outputs": [],
   "source": [
    "dfo = df.copy()"
   ]
  },
  {
   "cell_type": "code",
   "execution_count": null,
   "id": "85e84622-0659-4013-91ee-76bc7a801b18",
   "metadata": {
    "tags": []
   },
   "outputs": [],
   "source": [
    "mask_d = ~dfo.day_r0.isnull()\n",
    "n_d = sum(mask_d)\n",
    "print(f\"Le nombre de valeurs ou r0 de jour est non null est {n_d}\")\n",
    "mask_n = ~dfo.night_r0.isnull()\n",
    "n_n = sum(mask_n)\n",
    "print(f\"Le nombre de valeur ou le r0 de nuit est non null est {n_n}\")\n",
    "mask = (mask_d & mask_n)\n",
    "assert sum(mask) == 0\n",
    "ns_d = 1000\n",
    "ns_n = 1000\n",
    "f_d = ns_d/n_d\n",
    "f_n = ns_n/n_n\n",
    "print(f\"Le ratio de l'échantillon pour la nuit sont {f_n*100:.04f}% et pour le jour {f_d*100:.04f}%\")\n",
    "dfo_test_d = dfo[mask_d].sample(n=ns_d, random_state=42).copy()\n",
    "dfo_test_n = dfo[mask_n].sample(n=ns_n, random_state=42).copy()\n",
    "dfo.loc[dfo_test_d.index, \"day_r0\"] = np.nan\n",
    "dfo.loc[dfo_test_d.index, \"night_r0\"] = np.nan"
   ]
  },
  {
   "cell_type": "markdown",
   "id": "a463adfa-ff2c-4611-b997-f49b0a0488e3",
   "metadata": {},
   "source": [
    "## Sauvegarde des données"
   ]
  },
  {
   "cell_type": "code",
   "execution_count": null,
   "id": "e78d9b25-4977-4937-859e-bff371930c6c",
   "metadata": {
    "tags": []
   },
   "outputs": [],
   "source": [
    "path_data_ext_testday = path_data_ext.replace(\"extended.csv\", \"extended_testday.csv\")\n",
    "dfo_test_d.to_csv(path_data_ext_testday, index=True)"
   ]
  },
  {
   "cell_type": "code",
   "execution_count": null,
   "id": "e6d419f3-9c89-45f4-841f-d481ff6f93f7",
   "metadata": {
    "tags": []
   },
   "outputs": [],
   "source": [
    "path_data_ext_testnight = path_data_ext.replace(\"extended.csv\", \"extended_testnight.csv\")\n",
    "dfo_test_n.to_csv(path_data_ext_testnight, index=True)"
   ]
  },
  {
   "cell_type": "code",
   "execution_count": null,
   "id": "9691e7e3-5340-4863-becb-696624e369da",
   "metadata": {
    "tags": []
   },
   "outputs": [],
   "source": [
    "dfo.to_csv(path_data_ext, index=True)"
   ]
  }
 ],
 "metadata": {
  "kernelspec": {
   "display_name": "Python 3 (ipykernel)",
   "language": "python",
   "name": "python3"
  },
  "language_info": {
   "codemirror_mode": {
    "name": "ipython",
    "version": 3
   },
   "file_extension": ".py",
   "mimetype": "text/x-python",
   "name": "python",
   "nbconvert_exporter": "python",
   "pygments_lexer": "ipython3",
   "version": "3.10.12"
  }
 },
 "nbformat": 4,
 "nbformat_minor": 5
}
