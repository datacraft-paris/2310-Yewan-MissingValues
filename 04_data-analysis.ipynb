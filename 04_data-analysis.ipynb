{
 "cells": [
  {
   "cell_type": "markdown",
   "id": "66162848-6905-40a0-82e2-907b884e728c",
   "metadata": {},
   "source": [
    "# Analyse et visualisation des données"
   ]
  },
  {
   "cell_type": "markdown",
   "id": "80b732cd-582b-4ee8-818d-a0096c582793",
   "metadata": {},
   "source": [
    "## Initialisation"
   ]
  },
  {
   "cell_type": "code",
   "execution_count": null,
   "id": "558475f3-1e4e-421f-8a06-f089c1c68c4e",
   "metadata": {},
   "outputs": [],
   "source": [
    "# std\n",
    "import json\n",
    "import os\n",
    "import re\n",
    "# external\n",
    "import numpy as np\n",
    "import pandas as pd\n",
    "import missingno as msno\n",
    "import seaborn as sns\n",
    "import matplotlib.pyplot as plt\n",
    "# local\n",
    "from utils import showsrc\n",
    "from utils import correlation_table\n",
    "from utils import print_results_table\n",
    "from utils import plot_one_params_based_categories\n",
    "from utils import plot_corr\n",
    "from utils import plot_corr_saison_variable"
   ]
  },
  {
   "cell_type": "code",
   "execution_count": null,
   "id": "7e2e35ee-9fe4-4c4e-8a72-efa546b8a6ed",
   "metadata": {},
   "outputs": [],
   "source": [
    "# Active la recharge automatique de modules dans un Jupyter Notebook\n",
    "%load_ext autoreload\n",
    "# %autoreload 0 : Désactive la recharge automatique.\n",
    "# %autoreload 1 : Recharge automatiquement les modules importés avec %aimport uniquement.\n",
    "# %autoreload 2 : Recharge tous les modules (sauf ceux exclus par %aimport), à chaque fois que du code est exécuté.\n",
    "%autoreload 2"
   ]
  },
  {
   "cell_type": "markdown",
   "id": "58a00ba4-80c9-4418-ad20-53eaca98fc63",
   "metadata": {},
   "source": [
    "### Paramètres"
   ]
  },
  {
   "cell_type": "code",
   "execution_count": null,
   "id": "5a3f8839-477f-4f67-aca1-7ac14e9372de",
   "metadata": {
    "tags": [
     "parametres"
    ]
   },
   "outputs": [],
   "source": [
    "dataversion = \"data-2310-Yewan-MissingValues-20231106\"  # Data version."
   ]
  },
  {
   "cell_type": "code",
   "execution_count": null,
   "id": "811f2ed8-e918-4c4c-a68d-c5d75db2fb40",
   "metadata": {},
   "outputs": [],
   "source": [
    "data_directory = os.getcwd() + os.sep  + \"data\" + os.sep + dataversion  # Directory where we put the data.\n",
    "path_data_ext =  data_directory + os.sep + 'tenerife2020_extended.csv'  # Path to extended dataset."
   ]
  },
  {
   "cell_type": "markdown",
   "id": "1809eda5-eee0-428c-a055-ac93ef33b158",
   "metadata": {},
   "source": [
    "### Fonction pour faciliter le traitement"
   ]
  },
  {
   "cell_type": "code",
   "execution_count": null,
   "id": "11d36491-8874-4bc6-a13d-05739b942c17",
   "metadata": {
    "tags": []
   },
   "outputs": [],
   "source": [
    "showsrc(correlation_table)"
   ]
  },
  {
   "cell_type": "code",
   "execution_count": null,
   "id": "68b9e959-500b-4250-803b-11fff2066bb7",
   "metadata": {
    "tags": []
   },
   "outputs": [],
   "source": [
    "showsrc(print_results_table)"
   ]
  },
  {
   "cell_type": "code",
   "execution_count": null,
   "id": "b0afd75e-32e2-4b41-b5c2-4fa76bdf5b16",
   "metadata": {
    "tags": []
   },
   "outputs": [],
   "source": [
    "showsrc(plot_one_params_based_categories)"
   ]
  },
  {
   "cell_type": "markdown",
   "id": "afb89cc3-ce0a-4642-a200-8e21ccbba56b",
   "metadata": {},
   "source": [
    "## Lecture des données"
   ]
  },
  {
   "cell_type": "code",
   "execution_count": null,
   "id": "faa8f37b-bb42-43fb-9768-6c2ac592ac29",
   "metadata": {},
   "outputs": [],
   "source": [
    "df = pd.read_csv(path_data_ext, low_memory=False, index_col=\"time\")\n",
    "df.index = pd.to_datetime(df.index, unit='ns')\n",
    "with open('dimm.json', 'r') as f:\n",
    "    dimm_n2s = json.load(f)\n",
    "df['dimm_status'] = df.dimm_numeric.fillna(0).map(int).map(str).replace(dimm_n2s).replace(np.nan, \"Unknown\")\n",
    "with open('season.json', 'r') as f:\n",
    "    season_n2s = json.load(f)\n",
    "df['season_name'] = df.season.map(str).replace(season_n2s)\n",
    "cols = [i for i in df.columns.tolist() if re.match(r\"cam_.*\", i)]\n",
    "df['cam_name'] = df[cols].idxmax(axis=1)"
   ]
  },
  {
   "cell_type": "code",
   "execution_count": null,
   "id": "4cf5b1cf-6108-4bd4-ae26-5c608baaf3ea",
   "metadata": {
    "tags": []
   },
   "outputs": [],
   "source": [
    "ax = df['d_ext_temp'].plot()"
   ]
  },
  {
   "cell_type": "code",
   "execution_count": null,
   "id": "c58a6f6a-0b20-43ed-8584-665717820f75",
   "metadata": {
    "tags": []
   },
   "outputs": [],
   "source": []
  },
  {
   "cell_type": "code",
   "execution_count": null,
   "id": "d3074dc3-e3e3-4fca-b736-769b54f23b68",
   "metadata": {},
   "outputs": [],
   "source": [
    "df.info()"
   ]
  },
  {
   "cell_type": "code",
   "execution_count": null,
   "id": "42ed7d60-fb21-4494-bccd-8aa3b675814e",
   "metadata": {},
   "outputs": [],
   "source": [
    "df.sample(5).T"
   ]
  },
  {
   "cell_type": "markdown",
   "id": "895e2ab1",
   "metadata": {},
   "source": [
    "## Création de sous-dataframe par saison"
   ]
  },
  {
   "cell_type": "code",
   "execution_count": null,
   "id": "6ebaa106",
   "metadata": {},
   "outputs": [],
   "source": [
    "hiver = df[df['season'] == 1] #12, 1, 2\n",
    "printemps = df[df['season'] == 2] #3, 4, 5\n",
    "ete = df[df['season'] == 3] #6, 7, 8\n",
    "automne = df[df['season'] == 4] #9, 10, 11 "
   ]
  },
  {
   "cell_type": "code",
   "execution_count": null,
   "id": "80ac30d1",
   "metadata": {},
   "outputs": [],
   "source": [
    "# Missing value investigation on four seasons\n",
    "ax = msno.matrix(printemps)\n",
    "ax = msno.matrix(ete)\n",
    "ax = msno.matrix(automne)\n",
    "ax = msno.matrix(hiver)"
   ]
  },
  {
   "cell_type": "markdown",
   "id": "35f82272",
   "metadata": {},
   "source": [
    "## Catégorisation des variables"
   ]
  },
  {
   "cell_type": "code",
   "execution_count": null,
   "id": "fd2cba46",
   "metadata": {},
   "outputs": [],
   "source": [
    "features_all = []\n",
    "features_turbulence_day = ['day_r0', 'day_see', 'day_see_stddev']  # La turbulence de jour: Scintillation solar sensor\n",
    "features_all.extend(features_turbulence_day)\n",
    "features_turbulence_night = ['night_r0', 'night_see', 'scint', 'transp'] # La turbulence de nuit: DIMM\n",
    "features_all.extend(features_turbulence_night)\n",
    "features_weather = ['d_wind_dir', 'humid', 'd_humid', 'press', 'irrad'] # La station météo: Weather station\n",
    "features_all.extend(features_weather)\n",
    "features_thermal = ['sky_temp', 'wat_col_hei', 'pyr_temp', 'down_ir']  # 1,2: zenith sensor, 10°FoV; 3,4: 52° sensor, 40°FoV\n",
    "features_all.extend(features_thermal)"
   ]
  },
  {
   "cell_type": "markdown",
   "id": "677d7f61-cec5-49bf-8f44-de74645d8b42",
   "metadata": {},
   "source": [
    "## Visualisation et statistique de base"
   ]
  },
  {
   "cell_type": "markdown",
   "id": "6fc112db-e11d-467c-b7bf-8f81b88715c7",
   "metadata": {},
   "source": [
    "### Evolution temporelle"
   ]
  },
  {
   "cell_type": "code",
   "execution_count": null,
   "id": "2bad209f",
   "metadata": {},
   "outputs": [],
   "source": [
    "# Dessinez les courbes des variables de juillet.\n",
    "df_month = df[(df.month == 9)]\n",
    "ax = df_month.day_r0.plot(style='.', title=\"$r_0$ de jour\")"
   ]
  },
  {
   "cell_type": "code",
   "execution_count": null,
   "id": "aa8d8146",
   "metadata": {},
   "outputs": [],
   "source": [
    "ax = df[['sun_alt', 'sky_temp']].plot(title=\"Altitude du soleil et température\")"
   ]
  },
  {
   "cell_type": "code",
   "execution_count": null,
   "id": "e600f80b-0a90-4adc-abb2-518151616dc7",
   "metadata": {},
   "outputs": [],
   "source": [
    "plot_one_params_based_categories(automne, 'sky_temp', 'dimm_status')"
   ]
  },
  {
   "cell_type": "code",
   "execution_count": null,
   "id": "963e99b6-01c3-4c42-86c2-050589962824",
   "metadata": {},
   "outputs": [],
   "source": [
    "plot_one_params_based_categories(df, 'humid', 'season_name')"
   ]
  },
  {
   "cell_type": "markdown",
   "id": "e42c3222",
   "metadata": {},
   "source": [
    "### Statistique descriptive de base"
   ]
  },
  {
   "cell_type": "code",
   "execution_count": null,
   "id": "cd85bf03",
   "metadata": {},
   "outputs": [],
   "source": [
    "df.describe().T"
   ]
  },
  {
   "cell_type": "markdown",
   "id": "9d335668",
   "metadata": {},
   "source": [
    "### box-plot "
   ]
  },
  {
   "cell_type": "code",
   "execution_count": null,
   "id": "b6621bd3",
   "metadata": {},
   "outputs": [],
   "source": [
    "ax = df[['day_r0','night_r0']].boxplot(figsize=(8, 8))"
   ]
  },
  {
   "cell_type": "markdown",
   "id": "105f5ada",
   "metadata": {},
   "source": [
    "### Histogrammes"
   ]
  },
  {
   "cell_type": "code",
   "execution_count": null,
   "id": "8e858423",
   "metadata": {},
   "outputs": [],
   "source": [
    "sns.histplot(df.night_r0) #day_r0\n",
    "plt.show()\n",
    "sns.histplot(printemps.night_r0) #night_r0\n",
    "plt.show()\n",
    "sns.histplot(ete.night_r0) #night_r0\n",
    "plt.show()\n",
    "sns.histplot(automne.night_r0) #night_r0\n",
    "plt.show()\n",
    "sns.histplot(hiver.night_r0) #night_r0\n",
    "plt.show()"
   ]
  },
  {
   "cell_type": "markdown",
   "id": "9885fa29",
   "metadata": {},
   "source": [
    "### Camenbert"
   ]
  },
  {
   "cell_type": "code",
   "execution_count": null,
   "id": "33fe4137-6c78-4a85-b494-8dc29984e227",
   "metadata": {
    "tags": []
   },
   "outputs": [],
   "source": [
    "print(\"L'hiver\")\n",
    "t = pd.crosstab(hiver.cam_name, \"freq\", normalize = True)\n",
    "t.plot.pie(subplots=True, figsize = (4, 4))\n",
    "plt.show()\n",
    "print(\"L'automne\")\n",
    "t = pd.crosstab(automne.cam_name, \"freq\", normalize = True)\n",
    "t.plot.pie(subplots=True, figsize = (4, 4))\n",
    "plt.show()\n",
    "\n",
    "print(\"Le printemps\")\n",
    "t = pd.crosstab(printemps.cam_name, \"freq\", normalize = True)\n",
    "t.plot.pie(subplots=True, figsize = (4, 4))\n",
    "plt.show()\n",
    "\n",
    "print(\"L'été\")\n",
    "t = pd.crosstab(ete.cam_name, \"freq\", normalize = True)\n",
    "t.plot.pie(subplots=True, figsize = (4, 4))\n",
    "plt.show()"
   ]
  },
  {
   "cell_type": "code",
   "execution_count": null,
   "id": "602b472a",
   "metadata": {},
   "outputs": [],
   "source": [
    "print(\"L'hiver\")\n",
    "t = pd.crosstab(hiver.dimm_status, \"freq\", normalize = True)\n",
    "t.plot.pie(subplots=True, figsize = (4, 4))\n",
    "plt.show()\n",
    "\n",
    "print(\"L'automne\")\n",
    "t = pd.crosstab(automne.dimm_status, \"freq\", normalize = True)\n",
    "t.plot.pie(subplots=True, figsize = (4, 4))\n",
    "plt.show()\n",
    "\n",
    "print(\"Le printemps\")\n",
    "t = pd.crosstab(printemps.dimm_status, \"freq\", normalize = True)\n",
    "t.plot.pie(subplots=True, figsize = (4, 4))\n",
    "plt.show()\n",
    "\n",
    "print(\"L'été\")\n",
    "t = pd.crosstab(ete.dimm_status, \"freq\", normalize = True)\n",
    "t.plot.pie(subplots=True, figsize = (4, 4))\n",
    "plt.show()"
   ]
  },
  {
   "cell_type": "markdown",
   "id": "64eff862-9f78-4c23-afc4-ff3005afdfdf",
   "metadata": {},
   "source": [
    "### Comptages des status du dimm"
   ]
  },
  {
   "cell_type": "code",
   "execution_count": null,
   "id": "ffb6fc5d",
   "metadata": {},
   "outputs": [],
   "source": [
    "#df,hiver,automne,printemps,ete\n",
    "\n",
    "hiver.dimm_status.unique()\n",
    "print(\"L'hiver \\n\", pd.crosstab(hiver.dimm_status, \"freq\"),\"\\n\")\n",
    "\n",
    "automne.dimm_status.unique()\n",
    "print(\"L'automne \\n\", pd.crosstab(automne.dimm_status, \"freq\"),\"\\n\")\n",
    "\n",
    "printemps.dimm_status.unique()\n",
    "print(\"Le printemps \\n\", pd.crosstab(printemps.dimm_status, \"freq\"),\"\\n\")\n",
    "\n",
    "ete.dimm_status.unique()\n",
    "print(\"L'été \\n\", pd.crosstab(ete.dimm_status, \"freq\"))"
   ]
  },
  {
   "cell_type": "markdown",
   "id": "87b4432c",
   "metadata": {},
   "source": [
    "## Corrélations"
   ]
  },
  {
   "cell_type": "code",
   "execution_count": null,
   "id": "b88fbcf3",
   "metadata": {},
   "outputs": [],
   "source": [
    "corr_table = correlation_table(df, 0.7, features_all)\n",
    "print_results_table(corr_table, ['Param1', 'Param2', 'Spearman'])"
   ]
  },
  {
   "cell_type": "code",
   "execution_count": null,
   "id": "f67d97f7",
   "metadata": {},
   "outputs": [],
   "source": [
    "print(\"hiver\")\n",
    "plot_corr(hiver[features_all])\n",
    "print(\"automne\")\n",
    "plot_corr(automne[features_all])\n",
    "print(\"printemps\")\n",
    "plot_corr(printemps[features_all])\n",
    "print(\"ete\")\n",
    "plot_corr(ete[features_all])\n",
    "print(\"sur l'année\")\n",
    "plot_corr(df[features_all])"
   ]
  },
  {
   "cell_type": "markdown",
   "id": "d6b946d2",
   "metadata": {},
   "source": [
    "### Résumé des corrélations \n",
    "\n",
    "$\\geq 0.84 \\% $: \n",
    "\n",
    "Variables corrélées pour toute saison : `sky_temp ~ wat_col_hei` et `pyt_temp ~ down_ir`\n",
    "\n",
    "- Hiver :  `transp ~ scint`\n",
    "- Automne :  `transp ~ scint`, `d_ext_temp ~ sky_temp`,`d_ext_temp ~ wat_col_hei`\n",
    "- Printemps : \n",
    "- Eté : `transp ~ scint`, `d_ext_temp ~ sky_temp`,`d_ext_temp ~ wat_col_hei`, \n"
   ]
  },
  {
   "cell_type": "code",
   "execution_count": null,
   "id": "28564905-37db-4041-b4cb-2ca151813df7",
   "metadata": {},
   "outputs": [],
   "source": [
    "Hiver,Automne,Printemps,Ete = [\n",
    "    [hiver,'hiver'],\n",
    "    [automne,'automne'],\n",
    "    [printemps,'printemps'],\n",
    "    [ete,'été']\n",
    "]\n",
    "showsrc(plot_corr_saison_variable)"
   ]
  },
  {
   "cell_type": "markdown",
   "id": "b140c1d4-04a1-458d-a4e4-e40cced72ee3",
   "metadata": {},
   "source": [
    "### Dépendence entre 2 variables"
   ]
  },
  {
   "cell_type": "code",
   "execution_count": null,
   "id": "afe56d46-df1c-4f08-beaa-9ff8de87de5f",
   "metadata": {},
   "outputs": [],
   "source": [
    "plot_corr_saison_variable('wat_col_hei', 'sky_temp', Printemps)\n",
    "plot_corr_saison_variable('down_ir', 'pyr_temp', Printemps)"
   ]
  },
  {
   "cell_type": "markdown",
   "id": "cf6efd37",
   "metadata": {},
   "source": [
    "## Dépendences au status du DIMM\n",
    "\n",
    "Description conjointe d’un caractère quantitatif et d’un caractère qualitatif"
   ]
  },
  {
   "cell_type": "code",
   "execution_count": null,
   "id": "776cb666",
   "metadata": {},
   "outputs": [],
   "source": [
    "df.groupby(\"dimm_status\").mean().T"
   ]
  },
  {
   "cell_type": "markdown",
   "id": "a49caaad-a3ad-4430-afa1-b76f5fe18ff6",
   "metadata": {},
   "source": [
    "### on se concentre sur une variable avec sky_temp"
   ]
  },
  {
   "cell_type": "code",
   "execution_count": null,
   "id": "b86db04a",
   "metadata": {},
   "outputs": [],
   "source": [
    "df.groupby(\"dimm_status\")[\"sky_temp\"].agg([np.mean, np.std, np.median, np.min, np.max])"
   ]
  },
  {
   "cell_type": "code",
   "execution_count": null,
   "id": "61fa54db",
   "metadata": {},
   "outputs": [],
   "source": [
    "sns.histplot(data = df, x=\"sky_temp\", hue = \"dimm_status\", multiple = \"stack\")"
   ]
  },
  {
   "cell_type": "markdown",
   "id": "0ec4eb11",
   "metadata": {},
   "source": [
    "### Localisation des status dans l'espace des variables\n",
    "\n",
    "Description conjointe de deux caractères quantitatifs et d’un caractère qualitatif"
   ]
  },
  {
   "cell_type": "code",
   "execution_count": null,
   "id": "9eefa732",
   "metadata": {},
   "outputs": [],
   "source": [
    "sns.relplot(x = \"down_ir\", y = \"pyr_temp\", hue = \"dimm_status\", data = df, height = 6, s = 30)"
   ]
  },
  {
   "cell_type": "code",
   "execution_count": null,
   "id": "c14a56ae",
   "metadata": {},
   "outputs": [],
   "source": [
    "sns.lmplot(data = df, x=\"sky_temp\", y = \"wat_col_hei\", hue = \"dimm_status\", col = \"dimm_status\")"
   ]
  },
  {
   "cell_type": "markdown",
   "id": "f5680e75",
   "metadata": {},
   "source": [
    "## Tendance et saisonnalité"
   ]
  },
  {
   "cell_type": "markdown",
   "id": "71a3eef4",
   "metadata": {},
   "source": [
    "### Affichage de la tendance"
   ]
  },
  {
   "cell_type": "code",
   "execution_count": null,
   "id": "2cf440d3-4ff9-4522-a7f6-eac02b736c39",
   "metadata": {},
   "outputs": [],
   "source": [
    "def plot_df(df, x, y, ylabel= None, title = None, color = None):\n",
    "    fig, ax = plt.subplots()\n",
    "    ax.plot(x, y)\n",
    "    ax.set_xlabel('time')\n",
    "    if ylabel:\n",
    "        ax.set_ylabel(ylabel)\n",
    "    if title:\n",
    "        ax.set_title(title)\n",
    "\n",
    "    plt.xticks(\n",
    "    rotation=45,\n",
    "    horizontalalignment='right',\n",
    "    fontweight='light',\n",
    "    fontsize='medium',\n",
    ")\n",
    "    ax.grid(True)\n",
    "    plt.show()"
   ]
  },
  {
   "cell_type": "code",
   "execution_count": null,
   "id": "711a408d",
   "metadata": {},
   "outputs": [],
   "source": [
    "df['day'] = df.index.day\n",
    "df['month'] = df.index.month\n",
    "month = df['month'].unique()\n",
    "\n",
    "plot_df(df, x=df.index, y=df.sky_temp, ylabel = \"Sky temperature\" ,title='Sky temperature plot',color = 'green')  \n",
    "\n",
    "plot_df(df, x=df.index, y=df.pyr_temp, ylabel = \"Pyr temperature\" ,title='Pyr temperature plot', color = 'blue')  \n",
    "\n",
    "plot_df(df, x=df.index, y=df.day_r0, ylabel = \"Day r0\" ,title='Day r0 plot', color = 'purple')  \n",
    "\n",
    "plot_df(df, x=df.index, y=df.night_r0, ylabel = \"Night r0\" ,title='Night r0 plot')  \n"
   ]
  },
  {
   "cell_type": "markdown",
   "id": "32670759",
   "metadata": {},
   "source": [
    "### Affichage de la saisonnalité (ex : en juillet)"
   ]
  },
  {
   "cell_type": "code",
   "execution_count": null,
   "id": "1de63922",
   "metadata": {
    "tags": []
   },
   "outputs": [],
   "source": [
    "plt.plot('day_r0', data=df.loc[~df.month.isin([7]), :],)\n",
    "plt.title('Month-wise plot day r0 \\n(The Seasonality)', fontsize=12)\n",
    "plt.show()\n",
    "plt.plot('night_r0', data=df.loc[~df.month.isin([7]), :],)\n",
    "plt.title('Month-wise plot night r0 \\n(The Seasonality)', fontsize=12)\n",
    "plt.show()"
   ]
  }
 ],
 "metadata": {
  "kernelspec": {
   "display_name": "Python 3 (ipykernel)",
   "language": "python",
   "name": "python3"
  },
  "language_info": {
   "codemirror_mode": {
    "name": "ipython",
    "version": 3
   },
   "file_extension": ".py",
   "mimetype": "text/x-python",
   "name": "python",
   "nbconvert_exporter": "python",
   "pygments_lexer": "ipython3",
   "version": "3.10.12"
  }
 },
 "nbformat": 4,
 "nbformat_minor": 5
}
