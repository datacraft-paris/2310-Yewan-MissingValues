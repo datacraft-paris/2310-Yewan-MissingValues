{
 "cells": [
  {
   "cell_type": "markdown",
   "id": "bc9fcda3-ab32-4aca-b577-e9502b602403",
   "metadata": {},
   "source": [
    "# Imputation des valeurs manquantes"
   ]
  },
  {
   "cell_type": "markdown",
   "id": "5d133aac-36e9-45c5-a594-a66178a38902",
   "metadata": {},
   "source": [
    "## Initialisation\n",
    "\n",
    "### Importation des packages nécessaires"
   ]
  },
  {
   "cell_type": "code",
   "execution_count": null,
   "id": "3adf3d4f-0429-42f0-aa51-14624ccc3c1b",
   "metadata": {},
   "outputs": [],
   "source": [
    "# std\n",
    "import os\n",
    "import re\n",
    "# external\n",
    "import numpy as np\n",
    "import pandas as pd\n",
    "import matplotlib.pyplot as plt \n",
    "\n",
    "# local\n",
    "from utils import experiment\n",
    "from utils import showsrc"
   ]
  },
  {
   "cell_type": "code",
   "execution_count": null,
   "id": "cb4d756c-25d5-4fa4-b3b2-2a4b8bf681d3",
   "metadata": {
    "tags": []
   },
   "outputs": [],
   "source": [
    "# Active la recharge automatique de modules dans un Jupyter Notebook\n",
    "%load_ext autoreload\n",
    "# %autoreload 0 : Désactive la recharge automatique.\n",
    "# %autoreload 1 : Recharge automatiquement les modules importés avec %aimport uniquement.\n",
    "# %autoreload 2 : Recharge tous les modules (sauf ceux exclus par %aimport), à chaque fois que du code est exécuté.\n",
    "%autoreload 2"
   ]
  },
  {
   "cell_type": "markdown",
   "id": "ea5c10fa-0239-4dc7-b6f4-c39a1a1790b1",
   "metadata": {},
   "source": [
    "### Les paramètres"
   ]
  },
  {
   "cell_type": "code",
   "execution_count": null,
   "id": "be289979-c6e1-49ab-ac08-167320f3e47d",
   "metadata": {
    "tags": [
     "parameters"
    ]
   },
   "outputs": [],
   "source": [
    "dataversion = \"data-2310-Yewan-MissingValues-20231106\"  # Data version.\n",
    "p_max = 49  # Maximum  percentage of mising value for keeping a classical meteorological variable\n",
    "grid = {'iterations': [50], 'learning_rate': [0.1], 'depth': [8], 'l2_leaf_reg': [0.5]} # Grid search"
   ]
  },
  {
   "cell_type": "code",
   "execution_count": null,
   "id": "2057a74d-1567-4a53-9840-f9617c72130b",
   "metadata": {
    "tags": []
   },
   "outputs": [],
   "source": [
    "data_directory = os.getcwd() + os.sep  + \"data\" + os.sep + dataversion # Directory where we put the data.\n",
    "l_status_numerics = [\"status_Cloudy\", \"status_Day time\", \"status_Night time\", \"status_Polaris locked\"]\n",
    "path_data_ext =  data_directory + os.sep + 'tenerife2020_extended.csv'  # Path to extended dataset.\n",
    "sep = 100 * \"=\" # Separator for cosmetics"
   ]
  },
  {
   "cell_type": "code",
   "execution_count": null,
   "id": "99705794-643b-4800-8394-e2848d01c6af",
   "metadata": {
    "tags": []
   },
   "outputs": [],
   "source": [
    "p_mes = f'''\n",
    "Parameters:\n",
    "  dataversion={dataversion}\n",
    "  p_max={p_max}\n",
    "  grid={grid}\n",
    "'''\n",
    "print(p_mes)"
   ]
  },
  {
   "cell_type": "markdown",
   "id": "cd60a027-e8db-4a0b-8089-58a7c2dec685",
   "metadata": {},
   "source": [
    "### Fonction d'aide au traitement"
   ]
  },
  {
   "cell_type": "code",
   "execution_count": null,
   "id": "024d984b-7d27-4694-a9b0-5cf370ddaebd",
   "metadata": {
    "tags": []
   },
   "outputs": [],
   "source": [
    "showsrc(experiment)"
   ]
  },
  {
   "cell_type": "markdown",
   "id": "85e70cca-b455-4130-9682-ec166c406f90",
   "metadata": {},
   "source": [
    "## Lecture du fichier de données enrichie"
   ]
  },
  {
   "cell_type": "code",
   "execution_count": null,
   "id": "6d6f0055-5e59-41ea-8645-b62382c0860c",
   "metadata": {
    "tags": []
   },
   "outputs": [],
   "source": [
    "df = pd.read_csv(path_data_ext, index_col=\"time\")\n",
    "df.index = pd.to_datetime(df.index)"
   ]
  },
  {
   "cell_type": "code",
   "execution_count": null,
   "id": "6b94ba26-b120-4b3a-970a-4156a4758f4f",
   "metadata": {
    "tags": []
   },
   "outputs": [],
   "source": [
    "df.sample(5).T"
   ]
  },
  {
   "cell_type": "code",
   "execution_count": null,
   "id": "4dd2d247-a741-46f2-b08b-02801ec6048d",
   "metadata": {},
   "outputs": [],
   "source": [
    "df"
   ]
  },
  {
   "cell_type": "markdown",
   "id": "0d03e021-e432-497f-91e2-1f37f8b88c1e",
   "metadata": {},
   "source": [
    "### Vérification des données"
   ]
  },
  {
   "cell_type": "code",
   "execution_count": null,
   "id": "5274749c-6a57-4e03-a4ab-c75baad323ee",
   "metadata": {},
   "outputs": [],
   "source": [
    "df.info()"
   ]
  },
  {
   "cell_type": "code",
   "execution_count": null,
   "id": "f6316cc5-9046-413f-b994-55f8013646ca",
   "metadata": {},
   "outputs": [],
   "source": [
    "print(\"Imputation des valeurs all-sky à zéro\")\n",
    "cols = [i for i in df.columns if re.match(r\"cam_.*\", i)]\n",
    "df[cols] = df[cols].fillna(0)\n",
    "print(\"Pourcentage de valeurs manquantes:\")\n",
    "dfp = df.isnull().sum().sort_values(ascending=False) / len(df) * 100\n",
    "dfp"
   ]
  },
  {
   "cell_type": "markdown",
   "id": "39bdfa39-34ab-4737-b0aa-4b7dcdd560a7",
   "metadata": {},
   "source": [
    "### Sauvegarde des données  d'entrée"
   ]
  },
  {
   "cell_type": "code",
   "execution_count": null,
   "id": "f2a4c6ac-7e32-4fd4-afb3-8367ea8720d7",
   "metadata": {},
   "outputs": [],
   "source": [
    "dfb = df.copy()"
   ]
  },
  {
   "cell_type": "markdown",
   "id": "ea7e8971-34c0-4c09-b519-24c1960a48d5",
   "metadata": {},
   "source": [
    "## Variables météorologiques classique\n",
    "\n",
    "Nous traitons séparament les variables météorologiques classiques avec peu de valeurs manquantes.    \n",
    "Pour ces variables, les valeurs manquantes sont bien souvent dues à un problème instrumental ou une coupure de courant."
   ]
  },
  {
   "cell_type": "markdown",
   "id": "6a101156-4994-4a8e-bae7-77c64777f456",
   "metadata": {},
   "source": [
    "## Thématique 1: Imputation des données manquantes pour les variables météologiques classiques"
   ]
  },
  {
   "cell_type": "markdown",
   "id": "26a6cc57-0d8c-4486-92e9-6783b334504a",
   "metadata": {},
   "source": [
    "### Selection des variables\n",
    "On enlève les variables qui ont trop de valeurs manquantes et celles qui ont toutes leur valeurs"
   ]
  },
  {
   "cell_type": "code",
   "execution_count": null,
   "id": "e4c548ba-f723-4895-b265-26d4339a32d0",
   "metadata": {},
   "outputs": [],
   "source": [
    "cols_met_full = dfp[dfp == 0.0].index.tolist()\n",
    "cols_met_imp = dfp[(dfp>0) & (dfp<=p_max)].index.tolist()\n",
    "cols_met_imp.remove(\"dimm_numeric\")"
   ]
  },
  {
   "cell_type": "markdown",
   "id": "0c2b1516-d947-405d-91ee-dc03e86af4dc",
   "metadata": {},
   "source": [
    "Les variables sans valeurs manquantes"
   ]
  },
  {
   "cell_type": "code",
   "execution_count": null,
   "id": "41815e6d-762b-4f73-89ac-788faf511aaa",
   "metadata": {
    "tags": []
   },
   "outputs": [],
   "source": [
    "cols_met_full"
   ]
  },
  {
   "cell_type": "markdown",
   "id": "d8b0cdfa-8986-482f-ad8d-6f314736964e",
   "metadata": {
    "tags": []
   },
   "source": [
    "Les variables classiques à imputer"
   ]
  },
  {
   "cell_type": "code",
   "execution_count": null,
   "id": "fe48cc96-d92a-448b-89e5-94241a3b8d99",
   "metadata": {},
   "outputs": [],
   "source": [
    "cols_met_imp"
   ]
  },
  {
   "cell_type": "markdown",
   "id": "d254df2f-0260-4d75-8779-501dd4bac077",
   "metadata": {},
   "source": [
    "### Quelques méthodes d'imputation basiques"
   ]
  },
  {
   "cell_type": "code",
   "execution_count": null,
   "id": "1d80d68a-fe67-4cbc-800c-f04ce09022df",
   "metadata": {},
   "outputs": [],
   "source": [
    "fcn_i = {}\n",
    "\n",
    "\n",
    "def imp_mean(s: pd.Series) -> pd.Series:\n",
    "    '''\n",
    "    '''\n",
    "    return s.fillna(s.mean())\n",
    "fcn_i['mean'] = imp_mean\n",
    "\n",
    "\n",
    "def imp_median(s: pd.Series) -> pd.Series:\n",
    "    return s.fillna(s.median())\n",
    "fcn_i['median'] = imp_median\n",
    "\n",
    "\n",
    "def imp_locf(s: pd.Series) -> pd.Series:\n",
    "    ''' Last Observation Carried Forward (LOCF) with first missing with median. '''\n",
    "    return s.fillna(method=\"ffill\").fillna(df[col].median())\n",
    "fcn_i['locf'] = imp_locf\n",
    "\n",
    "\n",
    "def imp_nocb(s: pd.Series) -> pd.Series:\n",
    "    ''' Next Observation Carried Backward with last missing with median. '''\n",
    "    return s.fillna(method=\"bfill\").fillna(df[col].median())\n",
    "fcn_i['nocb'] = imp_nocb\n",
    "\n",
    "\n",
    "def imp_linear(s: pd.Series) -> pd.Series:\n",
    "    return s.interpolate(method=\"linear\")\n",
    "fcn_i['linear'] = imp_linear\n",
    "\n",
    "\n",
    "def imp_spline(s: pd.Series) -> pd.Series:\n",
    "    return s.interpolate(method=\"spline\", order=2)\n",
    "fcn_i['spline'] = imp_spline\n"
   ]
  },
  {
   "cell_type": "markdown",
   "id": "52d3610a-628f-4487-b544-86e4a8e420e3",
   "metadata": {},
   "source": [
    "### Choix des méthodes"
   ]
  },
  {
   "cell_type": "markdown",
   "id": "943b16dd-9479-4262-bf25-80d00580a883",
   "metadata": {},
   "source": [
    "**Participant**: définir un dictionnaire `m2v` comprenant:\n",
    "- en clef le nom de la fonction d'interpolation à utiliser.\n",
    "- en valeur la liste de variable à interpoler.\n",
    "\n",
    "Par exemple:\n",
    "```python\n",
    "m2v = {\n",
    "    'mean': ['d_wind_dir'],\n",
    "    'median': ['dimm_day'], \n",
    "    'locf': ['dimm_unknown'], \n",
    "    'nocb': ['d_rain_rate'],\n",
    "    'linear': ['pyr_temp'], \n",
    "    'spline': ['humid']\n",
    "}\n",
    "```"
   ]
  },
  {
   "cell_type": "code",
   "execution_count": null,
   "id": "381e73d3-097d-400f-8ae7-23ac467e8541",
   "metadata": {
    "tags": []
   },
   "outputs": [],
   "source": [
    "m2v = {\n",
    "    ## Votre code ici ...\n",
    "\n",
    "}"
   ]
  },
  {
   "cell_type": "code",
   "execution_count": null,
   "id": "aef0ee80-738e-4a15-9dff-9b36804aef4d",
   "metadata": {},
   "outputs": [],
   "source": [
    "def view_imputation(sb: pd.Series, si: pd.Series, col: str, m: str):\n",
    "    # Tracer les courbes\n",
    "    plt.figure(figsize=(10, 6))\n",
    "\n",
    "    plt.plot(sb.index, sb, label='brut', marker='o')\n",
    "    plt.plot(si.index, si, label='imputé')\n",
    "\n",
    "    plt.xlabel('Temps')\n",
    "    plt.ylabel(col)\n",
    "    plt.title(f\"Imputation de la valeur {col} par la méthode {m}.\" )\n",
    "    plt.legend()\n",
    "\n",
    "    plt.show()"
   ]
  },
  {
   "cell_type": "markdown",
   "id": "1fcf79a8-610f-467b-b997-2c5750947a49",
   "metadata": {},
   "source": [
    "### Imputation et visualisation"
   ]
  },
  {
   "cell_type": "code",
   "execution_count": null,
   "id": "7020f744-791d-42e2-8153-4b35c98b7fc8",
   "metadata": {},
   "outputs": [],
   "source": [
    "print(sep)\n",
    "for m in m2v.keys():\n",
    "    for col in m2v[m]:\n",
    "        print(f\"Imputation of variable {col} with method {m}\")\n",
    "        df[col] = fcn_i[m](df[col]).copy()\n",
    "        view_imputation(dfb[col], df[col], col, m)\n",
    "        print(sep)"
   ]
  },
  {
   "cell_type": "markdown",
   "id": "04bc27ef-02b2-498e-9f58-28468bdc7677",
   "metadata": {},
   "source": [
    "### Sauvegarde du dataframe"
   ]
  },
  {
   "cell_type": "code",
   "execution_count": null,
   "id": "a9f990b9-92fc-48dd-bcca-3191f575ee1b",
   "metadata": {},
   "outputs": [],
   "source": [
    "df1 = df.copy()"
   ]
  },
  {
   "cell_type": "markdown",
   "id": "ebb3c1cb-d8fa-47f7-a558-cc51fe8ba3a2",
   "metadata": {},
   "source": [
    "## Variable de la turbulence \n",
    "\n",
    "- Reconstruire de nouvelle variables si nécessaire.    \n",
    "- Mettre en œuvre des algorithmes de traitement de données pour compléter les valeurs manquantes de la turbulence en utilisant les variables météorologiques, thermiques et supplémentaires.   \n",
    "\n",
    "\n",
    "Divisez le jeu de données en deux en fonction de la période de la journée (jour et nuit) en utilisant la variable \"sun_alt\". Les données pour la journée sont \"sun_alt > 0°\" et celles pour la nuit sont \"sun_alt < 0°\"\n",
    "\n",
    "Les variables à compléter: \n",
    "- Turbulence de la journée: day_r0 (Quand le soleil est au-dessus de l’horizon -> [sun_alt > 0°])\n",
    "- Turbulence de la nuit: night_r0 (Quand le soleil est au-dessous de l’horizon -> [sun_alt < 0°])\n",
    "\n",
    "3 sujet possibles\n",
    "- imputation de la valeur de jour `day_r0` uniquement.\n",
    "- imputation de la valeur de nuit `night_r0` uniqument. \n",
    "- imputation en fusionner `day_r0` et `night_r0`."
   ]
  },
  {
   "cell_type": "code",
   "execution_count": null,
   "id": "4610d929-2a70-4681-ac2d-46d42825392f",
   "metadata": {},
   "outputs": [],
   "source": [
    "models = {}"
   ]
  },
  {
   "cell_type": "code",
   "execution_count": null,
   "id": "a9c5a040-4cbe-46a6-ad0a-42a72340f93c",
   "metadata": {
    "tags": []
   },
   "outputs": [],
   "source": [
    "cols_x = []\n",
    "cols_x.extend(cols_met_full)\n",
    "cols_x.extend(cols_met_imp)"
   ]
  },
  {
   "cell_type": "markdown",
   "id": "ea2de6af-bb14-404a-abe2-041bc698016a",
   "metadata": {},
   "source": [
    "## Thématique 2 : le jour\n",
    "\n",
    "Imputation des données manquantes pour la variable `day_r0`"
   ]
  },
  {
   "cell_type": "markdown",
   "id": "5e092a50-71b9-44e5-b504-43568c79edd5",
   "metadata": {},
   "source": [
    "**Participant**  Définir la variable `col_y` de sorte à imputer le $r_0$ de jour.  \n",
    "Séléctionner une plage de temps pour visualiser la performance du modèle avec les variables `t_start_day` et `t_end_day`.   \n",
    "Ces dernières variables sont au format string `YYYY-MM-DD HH:MM:SS`.  "
   ]
  },
  {
   "cell_type": "code",
   "execution_count": null,
   "id": "8f39f687-7b92-4f8d-bf85-655bf9814a28",
   "metadata": {
    "tags": []
   },
   "outputs": [],
   "source": [
    "## Votre code ici ...\n",
    "\n",
    "\n",
    "cols_xy = [] \n",
    "cols_xy.append(col_y)\n",
    "cols_xy.extend(cols_x)\n",
    "\n",
    "# Selection des données de la journée en partant du dataframe avec les variables classiques imputé.\n",
    "df_day = df1.loc[df1['sun_alt'] >= 0, cols_xy].copy()\n",
    "\n",
    "models['day'] = experiment(df_day, cols_x, col_y, grid, \"day\", t_start_day, t_end_day)"
   ]
  },
  {
   "cell_type": "markdown",
   "id": "dbc6f21c-6ed7-45fd-b41b-bf094708cc63",
   "metadata": {},
   "source": [
    "## Thématique 3: la nuit\n",
    "\n",
    "Imputation des données manquantes pour la variable `night_r0`"
   ]
  },
  {
   "cell_type": "markdown",
   "id": "357c6158-87f7-47fa-bba2-348ba8c2c25c",
   "metadata": {},
   "source": [
    "**Participant**  Définir la variable `col_y` de sorte à imputer le $r_0$ de nuit.  \n",
    "Séléctionner une plage de temps pour visualiser la performance du modèle avec les variables `t_start_day` et `t_end_day`.   \n",
    "Ces dernières variables sont au format string `YYYY-MM-DD HH:MM:SS`.  "
   ]
  },
  {
   "cell_type": "code",
   "execution_count": null,
   "id": "bd4111a9-1d0b-4dc9-9c5e-6c16ae20679f",
   "metadata": {
    "tags": []
   },
   "outputs": [],
   "source": [
    "## Votre code ici ...\n",
    "\n",
    "\n",
    "cols_xy = [] \n",
    "cols_xy.append(col_y)\n",
    "cols_xy.extend(cols_x)\n",
    "\n",
    "# \n",
    "df_night = df1.loc[df1['sun_alt'] < 0, cols_xy].copy()\n",
    "\n",
    "models['night'] = experiment(df_night, cols_x, col_y, grid, \"night\", t_start_night, t_end_night)"
   ]
  },
  {
   "cell_type": "markdown",
   "id": "df9335b4-8438-48ad-ba9d-f8270894b05b",
   "metadata": {
    "tags": []
   },
   "source": [
    "## Thématique 4: on mélange tout\n",
    "\n",
    "Fusion des valeurs de jours et de nuit puis imputation.\n",
    "\n",
    "On part du dataframe avec les valeurs météo imputées."
   ]
  },
  {
   "cell_type": "markdown",
   "id": "29ce0b49-a53f-454f-97c6-d527c679e699",
   "metadata": {},
   "source": [
    "**Participant**  Créer une variable `r0` qui est la combinaison de la valeur de jour et de nuit.  \n",
    "Vous pouvez utiliser la méthode `combine_first` de pandas.  "
   ]
  },
  {
   "cell_type": "code",
   "execution_count": null,
   "id": "903665f8-8c47-40c5-b662-bdb838edbbb4",
   "metadata": {
    "tags": []
   },
   "outputs": [],
   "source": [
    "df = df1.copy()\n",
    "\n",
    "## Votre code ici ...\n",
    "\n",
    "\n",
    "print(df.info(show_counts=True))\n",
    "print(\"Percentage of missing values\")\n",
    "print(df.isnull().sum().sort_values(ascending=False)/len(df)*100)\n",
    "\n",
    "col_y = \"r0\""
   ]
  },
  {
   "cell_type": "markdown",
   "id": "d890aecb-a031-48fb-a7da-b697293e73e8",
   "metadata": {},
   "source": [
    "**Participant**: \n",
    "Séléctionner une plage de temps pour visualiser la performance du modèle avec les variables `t_start_fusion` et `t_end_fusion`.   \n",
    "Ces dernières variables sont au format string `YYYY-MM-DD HH:MM:SS`.  "
   ]
  },
  {
   "cell_type": "code",
   "execution_count": null,
   "id": "f54a20a3-e9d4-40af-8c00-ed3bc3008162",
   "metadata": {
    "tags": []
   },
   "outputs": [],
   "source": [
    "## Votre code ici ...\n",
    "\n",
    "\n",
    "cols_xy = [] \n",
    "cols_xy.append(col_y)\n",
    "cols_xy.extend(cols_x)\n",
    "\n",
    "models['fusion'] = experiment(df, cols_x, col_y, grid, \"fusion\", t_start_fusion, t_end_fusion)"
   ]
  },
  {
   "cell_type": "markdown",
   "id": "6ea5aeb1-a9b5-469d-b386-6ccaaaf25a25",
   "metadata": {},
   "source": [
    "## Comparaison des approches"
   ]
  },
  {
   "cell_type": "code",
   "execution_count": null,
   "id": "c1532b68-b17b-401d-b6f1-e34d7525e8ae",
   "metadata": {
    "tags": []
   },
   "outputs": [],
   "source": [
    "cols = []\n",
    "cols.append(\"r0\")\n",
    "for m in ['day', 'night', 'fusion']:\n",
    "    df[m] = models[m].predict(df[cols_x])\n",
    "    cols.append(m)"
   ]
  },
  {
   "cell_type": "code",
   "execution_count": null,
   "id": "c73500c2-dfd0-4918-a82d-6049fe31f864",
   "metadata": {
    "tags": []
   },
   "outputs": [],
   "source": [
    "mask_day = df['sun_alt'] >= 0\n",
    "mask_night = df['sun_alt'] < 0\n",
    "df['compose'] = np.nan\n",
    "df.loc[mask_day, 'compose'] = df.loc[mask_day, 'day']\n",
    "df.loc[mask_night, 'compose'] = df.loc[mask_night, 'night']\n",
    "cols.insert(1, \"compose\")"
   ]
  },
  {
   "cell_type": "code",
   "execution_count": null,
   "id": "4fe03792-4ef7-4416-b2c8-a7fa96b6da66",
   "metadata": {
    "tags": []
   },
   "outputs": [],
   "source": [
    "ax = df[cols].plot(figsize=(20,8))"
   ]
  },
  {
   "cell_type": "code",
   "execution_count": null,
   "id": "3d5e8c83-3515-4788-b7f2-e1bbea53dbde",
   "metadata": {
    "tags": []
   },
   "outputs": [],
   "source": [
    "df[cols].describe()"
   ]
  },
  {
   "cell_type": "code",
   "execution_count": null,
   "id": "94ab2e30-29cc-4566-b31a-317e5782bdd7",
   "metadata": {
    "tags": []
   },
   "outputs": [],
   "source": [
    "color = {\n",
    "    \"boxes\": \"DarkGreen\",\n",
    "    \"whiskers\": \"DarkOrange\",\n",
    "    \"medians\": \"DarkBlue\",\n",
    "    \"caps\": \"Gray\",\n",
    "}\n",
    "df[cols].plot.box(color=color, sym=\"r+\");"
   ]
  },
  {
   "cell_type": "code",
   "execution_count": null,
   "id": "3d791623-ecc6-4f05-ad74-fcfb1ffeb7c0",
   "metadata": {
    "tags": []
   },
   "outputs": [],
   "source": [
    "ax = df[cols].hist(bins=300, figsize=(15, 15))"
   ]
  }
 ],
 "metadata": {
  "kernelspec": {
   "display_name": "Python 3 (ipykernel)",
   "language": "python",
   "name": "python3"
  },
  "language_info": {
   "codemirror_mode": {
    "name": "ipython",
    "version": 3
   },
   "file_extension": ".py",
   "mimetype": "text/x-python",
   "name": "python",
   "nbconvert_exporter": "python",
   "pygments_lexer": "ipython3",
   "version": "3.10.9"
  }
 },
 "nbformat": 4,
 "nbformat_minor": 5
}
