{
 "cells": [
  {
   "cell_type": "markdown",
   "id": "6d68889f",
   "metadata": {},
   "source": [
    "# Prédiction de valeurs manquantes : application à des mesures de capteur\n",
    "\n",
    "Yewan Wang, Guillaume Simon @ Miratlas, Inès Hafassa Maïza @ DataCraft\n",
    "Juillet 2023\n",
    "\n",
    "## Thème\n",
    "Prétraitement des données de séries temporelles pour la complétion des turbulences atmosphériques liées aux conditions météorologiques.\n",
    "\n",
    "## Contexte\n",
    "La société \"Miratlas\" déploie un réseau instrumental mondiale pour surveiller les conditions météorologiques, en particulier les turbulences, afin de caractériser les conditions atmosphériques pour la communication optique en espace libre. Les variables de turbulence sont mesurées en observant les objets célestes brillants dans le ciel, tels que le soleil pendant la journée et Polaris pendant la nuit. Cependant, l'instrument ne peut pas effectuer de mesures efficaces si le soleil ou l'étoile est invisible, par exemple lorsqu'il y a des nuages ou lorsque les objets célestes sont en dessous de l'altitude d'observation. Par conséquent, nous avons de nombreuses valeurs manquantes pour les variables de turbulences. En revanche, la station météorologique obtient normalement des mesures continues sans interruption. Dans cet atelier, nous souhaitons analyser les relations internes et potentielles entre les variables de turbulence et les données météorologiques, afin de déterminer si nous pouvons obtenir des prédictions à court terme des turbulences en utilisant les variables météorologiques pour compléter les measures manquantes de la turbulence.\n",
    "\n",
    "## Plan\n",
    "1. Introduction : Présentation de la problématique et des enjeux.\n",
    "2. Visualization et prétraitement des données : Observation les évolutions et les valeurs manquantes des données.\n",
    "3. Exploration des données : Analyse statistique des jeux de données, en terme de la corrélation, la saisonalité, les valeurs aberrantes pour explorer les relations potentielles entre les variables météorologiques et les turbulences.\n",
    "4. Méthodes pre-selectionnées: <br>\n",
    "    4.1. Modélisation prédictive : Construction d'un modèle prédictif en utilisant des techniques d'apprentissage automatique pour estimer les turbulences à court terme en fonction des données météorologiques.\n",
    "5. Évaluation des performances : Évaluation du modèle prédictif et discussion des résultats obtenus.\n",
    "6. Conclusion : Discusion les résultats obtenus ensemble.\n",
    "\n",
    "\n",
    "## 1. Introduction\n",
    "\n",
    "### 1.1 Turbulence atmosphérique\n",
    "La turbulence atmosphérique fait référence à l’instabilité des mouvements de l’air. Comme un faisceau laser se propage dans l’atmosphère, son front d’onde subit des distorsions dues à des inhomogénéités dans l’indice de réfraction de l’air, qui sont causées par des variations de température et de pression. Ces effets sur un système optique peuvent être quantifiés par des paramètres de vision atmosphérique tels que la longueur de cohérence atmosphérique (paramètre Fried, r0) et l’angle isoplanatique.\n",
    "\n",
    "Source:\n",
    "- Apprends la science qui sous-tend les quatre principales causes de turbulence: https://parlonssciences.ca/ressources-pedagogiques/les-stim-expliquees/quest-ce-que-la-turbulence-atmospherique#:~:text=La%20turbulence%20en%20air%20clair%20se%20produit%20lorsque%20deux%20masses,de%20l'atmosph%C3%A8re%20appel%C3%A9e%20tropopause.\n",
    "\n",
    "### 1.2 Description du jeu de données \n",
    "1. time: sampling time  datetime64\n",
    "2. d_ext_temp: external temperature, float64\n",
    "3. d_humid: relative humidity, float64\n",
    "4. d_rain_rate：rain rate, float64       \n",
    "5. d_wind: wind speed, float64       \n",
    "6. d_wind_dir: wind direction, 0° North, 180° south, float64       \n",
    "7. __day_r0__: Fried parameter r0 day, float64       \n",
    "8. __day_see__: Day Seeing, float64       \n",
    "9. __day_see_stddev__, float64       \n",
    "10. down_ir: downwelling irrandance, radiation infrared, float64       \n",
    "11. humid: internal humidity, float64       \n",
    "12. irrad: irradance, float64       \n",
    "13. __isoplan__: Night Seeing isoplanetisme angle, Related to scintillation, float64       \n",
    "14. __night_r0__: Fried parameter r0 night, float64       \n",
    "15. __night_see__: Night Seeing, float64       \n",
    "16. press: pression, float64       \n",
    "17. pyr_temp: Pyrgeomete temperature, at 52° elevation, float64       \n",
    "18. __scint__: Scintillation night, float64, 0-255       \n",
    "19. sky_temp: sky temperature, float64       \n",
    "20. status: four catogeries based on status of DIMM: Day time, Cloudy, Night time, Polaris locked $^*$ , string        \n",
    "21. transp: Transparency night, float64, 0-255       \n",
    "22. wat_col_hei: Total Water Column, water vapor, float64    \n",
    "\n",
    "$^*$ : concerne l'étoile Polaris \n",
    "\n",
    "__en gras__ : les variables caractérisant la turbulence\n",
    "\n",
    "\n"
   ]
  },
  {
   "cell_type": "markdown",
   "id": "24a9f419-e758-4da0-9c93-110f906b9ddf",
   "metadata": {},
   "source": [
    "### 1.3 Parameters"
   ]
  },
  {
   "cell_type": "code",
   "execution_count": null,
   "id": "be82f6c6-d689-41cc-b00c-0db13456d169",
   "metadata": {},
   "outputs": [],
   "source": [
    "import os"
   ]
  },
  {
   "cell_type": "code",
   "execution_count": null,
   "id": "811f2ed8-e918-4c4c-a68d-c5d75db2fb40",
   "metadata": {},
   "outputs": [],
   "source": [
    "data_directory = os.getcwd() + os.sep  + \"data\"  # Directory where we put the data.\n",
    "path_data_raw = data_directory + os.sep + 'tenerife_2020.csv'  # Path to raw data.\n",
    "path_data_ext =  data_directory + os.sep + 'tenerife2020_extended.csv'  # Path to extended dataset."
   ]
  },
  {
   "cell_type": "markdown",
   "id": "7422332d-e661-4e80-b7e9-d61f5b15f275",
   "metadata": {},
   "source": [
    "## 2. Visualisation et prétraitement"
   ]
  },
  {
   "cell_type": "markdown",
   "id": "dc3ca0b2",
   "metadata": {},
   "source": [
    "Observation les évolutions et les valeurs manquantes des données, pretraitement des données brutes."
   ]
  },
  {
   "cell_type": "code",
   "execution_count": null,
   "id": "7dabdf47-7d06-4355-ba65-f226e748f202",
   "metadata": {},
   "outputs": [],
   "source": [
    "import pandas as pd\n",
    "import numpy as np\n",
    "import seaborn as sns\n",
    "import matplotlib.pyplot as plt\n",
    "from utils import *"
   ]
  },
  {
   "cell_type": "markdown",
   "id": "0b53f8b5",
   "metadata": {},
   "source": [
    "### 2.1 Importation des données"
   ]
  },
  {
   "cell_type": "code",
   "execution_count": null,
   "id": "558475f3-1e4e-421f-8a06-f089c1c68c4e",
   "metadata": {},
   "outputs": [],
   "source": [
    "cols_names = ['time', 'status', 'd_ext_temp', 'd_humid', 'd_rain_rate', 'd_wind', 'd_wind_dir', 'day_r0', 'day_see', \n",
    "            'day_see_stddev', 'down_ir', 'humid', 'irrad', 'isoplan', 'night_r0', 'night_see', 'press',\n",
    "            'pyr_temp', 'scint', 'sky_temp', 'transp', 'wat_col_hei']\n",
    "column_types = ['string', 'string', 'float32', 'float32', 'float32', 'float32', 'float32', 'float32', 'float32', 'float32', 'float32',\n",
    "                'float32', 'float32', 'float32', 'float32', 'float32', 'float32', 'float32', 'float32', 'float32', 'float32', 'float32']\n",
    "\n",
    "\n",
    "dtype = dict(zip(cols_names, column_types))\n",
    "df = pd.read_csv(path_data_raw, usecols=cols_names, dtype=dtype)\n",
    "df.replace(0, np.nan, inplace=True)\n",
    "df.replace([np.inf, -np.inf], np.nan, inplace=True)\n",
    "df['time'] = pd.to_datetime(df['time'], unit='ns')\n",
    "\n",
    "df[df['time'].dt.month == 1].info()"
   ]
  },
  {
   "cell_type": "markdown",
   "id": "424e6318",
   "metadata": {},
   "source": [
    "### 2.2 Valeurs manquantes"
   ]
  },
  {
   "cell_type": "code",
   "execution_count": null,
   "id": "19acf122",
   "metadata": {},
   "outputs": [],
   "source": [
    "import missingno as msno\n",
    "missing_df = missingDF(df)\n",
    "print('Dataframe des variables associées leurs taux de valeurs manquantes')\n",
    "print(missing_df)\n",
    "msno.matrix(df[df['time'].dt.month == 7]) # pour juillet"
   ]
  },
  {
   "cell_type": "markdown",
   "id": "0f81280f",
   "metadata": {},
   "source": [
    "\n",
    "- Les variables continues sans trous (ou presque) sont : __d_ext_temp__ , __d_wind_dir__, __down_ir__, __pyr_temp__, __press__, __sky_temp__, __wat_col_hei__, __humid__, __irrad__\n",
    "\n",
    "- Le taux de manquants pour les variables à trous qu'on cherche à prédire sont d'env 74%\n",
    "\n",
    "- Les variables (quasi ou entièrement) vides sont __isoplan__ et __d_rain_rate__\n",
    "\n",
    "On va supprimer ces deux dernières variables car elles ne nous serviront pas.\n"
   ]
  },
  {
   "cell_type": "code",
   "execution_count": null,
   "id": "0369fb1f",
   "metadata": {
    "scrolled": true
   },
   "outputs": [],
   "source": [
    "df = df.drop(['isoplan','d_rain_rate'],axis=1)"
   ]
  },
  {
   "cell_type": "markdown",
   "id": "22110756",
   "metadata": {},
   "source": [
    "### 2.3 Ajouter les variables supplémentaires"
   ]
  },
  {
   "cell_type": "code",
   "execution_count": null,
   "id": "3d0869d0",
   "metadata": {},
   "outputs": [],
   "source": [
    "if os.path.exists(path_data_ext):\n",
    "    df = pd.read_csv(path_data_ext)\n",
    "    df.time = pd.to_datetime(df.time)\n",
    "else:\n",
    "    df = add_features_from_raw_data(df, dic_location['tenerife']) # Ajouter: hour_of_day, month, season, sun_alt\n",
    "    df.to_csv(path_data_ext)\n",
    "print(df[df['time'].dt.month == 1].info())"
   ]
  },
  {
   "cell_type": "markdown",
   "id": "895e2ab1",
   "metadata": {},
   "source": [
    "### 2.3 On crée des dataframes par catégorie\n",
    "Cela pourra être utile pour l'observation des données, pour la création de modèle etc.\n",
    "\n",
    "__Decomposition par saison__"
   ]
  },
  {
   "cell_type": "code",
   "execution_count": null,
   "id": "6ebaa106",
   "metadata": {},
   "outputs": [],
   "source": [
    "#hiver = pd.concat([df[(df['time'].dt.month >= 12) & (df['time'].dt.day >=1)], df[(df['time'].dt.month <= 2) & (df['time'].dt.day <= 28)]])\n",
    "#printemps = df[(df['time'].dt.month >= 3) & (df['time'].dt.day >=1) & (df['time'].dt.month <= 5) & (df['time'].dt.day <= 31)]\n",
    "#ete = df[(df['time'].dt.month >= 6) & (df['time'].dt.day >=1) & (df['time'].dt.month <= 8) & (df['time'].dt.day <= 31)]\n",
    "#automne = df[(df['time'].dt.month >= 9) & (df['time'].dt.day >=1) & (df['time'].dt.month <= 11) & (df['time'].dt.day <= 31)]\n",
    "df = pd.read_csv('data/tenerife2020_extended.csv', dtype=dtype)\n",
    "df.drop(columns=['Unnamed: 0'], inplace=True)\n",
    "df['time'] = pd.to_datetime(df['time'], unit='ns')\n",
    "print(df.info())\n",
    "hiver = df[df['season'] == 1] #12, 1, 2\n",
    "printemps = df[df['season'] == 2] #3, 4, 5\n",
    "ete = df[df['season'] == 3] #6, 7, 8\n",
    "automne = df[df['season'] == 4] #9, 10, 11 "
   ]
  },
  {
   "cell_type": "code",
   "execution_count": null,
   "id": "80ac30d1",
   "metadata": {},
   "outputs": [],
   "source": [
    "#hiver,automne,printemps,été\n",
    "#missingDF(printemps)\n",
    "msno.matrix(printemps)\n",
    "msno.matrix(ete)\n",
    "msno.matrix(automne)\n",
    "msno.matrix(hiver)"
   ]
  },
  {
   "cell_type": "markdown",
   "id": "35f82272",
   "metadata": {},
   "source": [
    "__Printemps__ :  peu de valeurs manquantes (__day_r0__, __night_r0__) et peu de val manquantes chez les variables servant à prédire \n",
    "\n",
    "__Ete__ : peu de val manquante chez __day_r0__ mais bcp chez __night_r0__ et chez les variables pour prédire\n",
    "\n",
    "__Automne__ : pas mal de valeurs manquantes (__day_r0__, __night_r0__) mais peu de val manquantes chez les variables servant à prédire\n",
    "\n",
    "__Hiver__ : bcp de valeurs manquantes autant chez les variables à prédire que chez les variables pouvant servir à prédire (__scint__, __transp__, __d_wind__ etc) = bof\n",
    "\n",
    "__Decomposition par capteurs__"
   ]
  },
  {
   "cell_type": "code",
   "execution_count": null,
   "id": "fd2cba46",
   "metadata": {},
   "outputs": [],
   "source": [
    "features_all = ['day_r0', 'day_see', 'day_see_stddev', 'night_r0', 'night_see', 'scint', 'transp', 'd_wind_dir', 'humid', 'd_humid', 'press', 'irrad', 'sky_temp', 'wat_col_hei', 'pyr_temp', 'down_ir']\n",
    "features_turbulence_day = ['day_r0', 'day_see', 'day_see_stddev']  # Scintillation solar sensor\n",
    "features_turbulence_night = ['night_r0', 'night_see', 'scint', 'transp'] # DIMM\n",
    "features_weather = ['d_wind_dir', 'humid', 'd_humid', 'press', 'irrad'] # Weather station\n",
    "features_thermal = ['sky_temp', 'wat_col_hei', 'pyr_temp', 'down_ir']  # 1,2: zenith sensor, 10°FoV; 3,4: 52° sensor, 40°FoV"
   ]
  },
  {
   "cell_type": "code",
   "execution_count": null,
   "id": "b88fbcf3",
   "metadata": {},
   "outputs": [],
   "source": [
    "corr_table = correlation_table(df, 0.7, features_all)\n",
    "print_results_table(corr_table, ['Param1', 'Param2', 'Spearman'])"
   ]
  },
  {
   "cell_type": "markdown",
   "id": "8380e4e5",
   "metadata": {},
   "source": [
    "### 2.4 Fonction de plotting"
   ]
  },
  {
   "cell_type": "code",
   "execution_count": null,
   "id": "2bad209f",
   "metadata": {},
   "outputs": [],
   "source": [
    "# Dessinez les courbes des variables de juillet.\n",
    "df_month = df[(df['time'].dt.month == 9)]\n",
    "plot_one_param(df_month, 'day_r0')\n",
    "plot_one_param(df_month, 'night_r0')"
   ]
  },
  {
   "cell_type": "code",
   "execution_count": null,
   "id": "aa8d8146",
   "metadata": {
    "scrolled": true
   },
   "outputs": [],
   "source": [
    "plot_two_params(df, 'sun_alt', 'sky_temp')"
   ]
  },
  {
   "cell_type": "code",
   "execution_count": null,
   "id": "dfe052a1",
   "metadata": {},
   "outputs": [],
   "source": [
    "plot_one_params_based_categories(automne, 'sky_temp', 'status')\n",
    "plot_one_params_based_categories(df, 'humid', 'season')"
   ]
  },
  {
   "cell_type": "markdown",
   "id": "38bac9d2",
   "metadata": {},
   "source": [
    "## 3. Statistiques descriptives"
   ]
  },
  {
   "cell_type": "markdown",
   "id": "e42c3222",
   "metadata": {},
   "source": [
    "#### Variables quantitatives"
   ]
  },
  {
   "cell_type": "code",
   "execution_count": null,
   "id": "cd85bf03",
   "metadata": {},
   "outputs": [],
   "source": [
    "df.describe()"
   ]
  },
  {
   "cell_type": "markdown",
   "id": "9d335668",
   "metadata": {},
   "source": [
    "__Affichage des box-plot__ : "
   ]
  },
  {
   "cell_type": "code",
   "execution_count": null,
   "id": "b6621bd3",
   "metadata": {
    "scrolled": true
   },
   "outputs": [],
   "source": [
    "df[['day_r0','night_r0']].boxplot()"
   ]
  },
  {
   "cell_type": "markdown",
   "id": "105f5ada",
   "metadata": {},
   "source": [
    "__Affichage des histogrammes__ :"
   ]
  },
  {
   "cell_type": "code",
   "execution_count": null,
   "id": "8e858423",
   "metadata": {},
   "outputs": [],
   "source": [
    "sns.histplot(df.night_r0) #day_r0\n",
    "plt.show()\n",
    "sns.histplot(printemps.night_r0) #night_r0\n",
    "plt.show()\n",
    "sns.histplot(ete.night_r0) #night_r0\n",
    "plt.show()\n",
    "sns.histplot(automne.night_r0) #night_r0\n",
    "plt.show()\n",
    "sns.histplot(hiver.night_r0) #night_r0\n",
    "plt.show()"
   ]
  },
  {
   "cell_type": "markdown",
   "id": "9885fa29",
   "metadata": {},
   "source": [
    "#### Variables qualitatives"
   ]
  },
  {
   "cell_type": "code",
   "execution_count": null,
   "id": "602b472a",
   "metadata": {},
   "outputs": [],
   "source": [
    "print(\"L'hiver\")\n",
    "t = pd.crosstab(hiver.status, \"freq\", normalize = True)\n",
    "t.plot.pie(subplots=True, figsize = (4, 4))\n",
    "plt.show()\n",
    "\n",
    "print(\"L'automne\")\n",
    "t = pd.crosstab(automne.status, \"freq\", normalize = True)\n",
    "t.plot.pie(subplots=True, figsize = (4, 4))\n",
    "plt.show()\n",
    "\n",
    "print(\"Le printemps\")\n",
    "t = pd.crosstab(printemps.status, \"freq\", normalize = True)\n",
    "t.plot.pie(subplots=True, figsize = (4, 4))\n",
    "plt.show()\n",
    "\n",
    "print(\"L'été\")\n",
    "t = pd.crosstab(ete.status, \"freq\", normalize = True)\n",
    "t.plot.pie(subplots=True, figsize = (4, 4))\n",
    "plt.show()"
   ]
  },
  {
   "cell_type": "code",
   "execution_count": null,
   "id": "ffb6fc5d",
   "metadata": {},
   "outputs": [],
   "source": [
    "#df,hiver,automne,printemps,ete\n",
    "\n",
    "hiver.status.unique()\n",
    "print(\"L'hiver \\n\", pd.crosstab(hiver.status, \"freq\"),\"\\n\")\n",
    "\n",
    "automne.status.unique()\n",
    "print(\"L'automne \\n\", pd.crosstab(automne.status, \"freq\"),\"\\n\")\n",
    "\n",
    "printemps.status.unique()\n",
    "print(\"Le printemps \\n\", pd.crosstab(printemps.status, \"freq\"),\"\\n\")\n",
    "\n",
    "ete.status.unique()\n",
    "print(\"L'été \\n\", pd.crosstab(ete.status, \"freq\"))"
   ]
  },
  {
   "cell_type": "markdown",
   "id": "87b4432c",
   "metadata": {},
   "source": [
    "#### Description conjointe de caractères quantitatifs"
   ]
  },
  {
   "cell_type": "code",
   "execution_count": null,
   "id": "f67d97f7",
   "metadata": {},
   "outputs": [],
   "source": [
    "print(\"hiver\")\n",
    "plot_corr(hiver)\n",
    "print(\"automne\")\n",
    "plot_corr(automne)\n",
    "print(\"printemps\")\n",
    "plot_corr(printemps)\n",
    "print(\"ete\")\n",
    "plot_corr(ete)\n",
    "print(\"sur l'année\")\n",
    "plot_corr(df)"
   ]
  },
  {
   "cell_type": "markdown",
   "id": "d6b946d2",
   "metadata": {},
   "source": [
    "## Résumé des corrélations ( $\\geq 0.84 \\% $ ) : \n",
    "\n",
    "Variables corrélées pour toute saison : `sky_temp ~ wat_col_hei` et `pyt_temp ~ down_ir`\n",
    "\n",
    "### Hiver : \n",
    "\n",
    "`transp ~ scint`\n",
    "\n",
    "### Automne : \n",
    "\n",
    "`transp ~ scint`, `d_ext_temp ~ sky_temp`,`d_ext_temp ~ wat_col_hei`\n",
    "\n",
    "### Printemps : \n",
    "\n",
    "### Eté : \n",
    "\n",
    "`transp ~ scint`, `d_ext_temp ~ sky_temp`,`d_ext_temp ~ wat_col_hei`, \n"
   ]
  },
  {
   "cell_type": "code",
   "execution_count": null,
   "id": "215aff32",
   "metadata": {},
   "outputs": [],
   "source": [
    "Hiver,Automne,Printemps,Ete = [[hiver,'hiver'],[automne,'automne'],[printemps,'printemps'],[ete,'été']]\n",
    "\n",
    "plot_corr_saison_variable('wat_col_hei', 'sky_temp', Printemps)\n",
    "plot_corr_saison_variable('down_ir', 'pyr_temp', Printemps)"
   ]
  },
  {
   "cell_type": "markdown",
   "id": "cf6efd37",
   "metadata": {},
   "source": [
    "### Description conjointe d’un caractère quantitatif et d’un caractère qualitatif"
   ]
  },
  {
   "cell_type": "code",
   "execution_count": null,
   "id": "776cb666",
   "metadata": {},
   "outputs": [],
   "source": [
    "df.groupby(\"status\").mean()"
   ]
  },
  {
   "cell_type": "code",
   "execution_count": null,
   "id": "b86db04a",
   "metadata": {},
   "outputs": [],
   "source": [
    "#ex ou on se concentre sur une variable avec sky_temp\n",
    "\n",
    "df.groupby(\"status\")[\"sky_temp\"].agg([np.mean, np.std, np.median, np.min, np.max])"
   ]
  },
  {
   "cell_type": "code",
   "execution_count": null,
   "id": "61fa54db",
   "metadata": {},
   "outputs": [],
   "source": [
    "sns.histplot(data = df, x=\"sky_temp\", hue = \"status\", multiple = \"stack\")"
   ]
  },
  {
   "cell_type": "markdown",
   "id": "0ec4eb11",
   "metadata": {},
   "source": [
    "#### Description conjointe de deux caractères quantitatifs et d’un caractère qualitatif"
   ]
  },
  {
   "cell_type": "code",
   "execution_count": null,
   "id": "9eefa732",
   "metadata": {},
   "outputs": [],
   "source": [
    "sns.relplot(x = \"down_ir\", y = \"pyr_temp\", hue = \"status\", data = df, height = 6, s = 30)"
   ]
  },
  {
   "cell_type": "code",
   "execution_count": null,
   "id": "c14a56ae",
   "metadata": {},
   "outputs": [],
   "source": [
    "sns.lmplot(data = df, x=\"sky_temp\", y = \"wat_col_hei\", hue = \"status\", col = \"status\")"
   ]
  },
  {
   "cell_type": "markdown",
   "id": "f5680e75",
   "metadata": {},
   "source": [
    "## 3. Tendance et saisonnalité"
   ]
  },
  {
   "cell_type": "markdown",
   "id": "71a3eef4",
   "metadata": {},
   "source": [
    "### Affichage de la tendance"
   ]
  },
  {
   "cell_type": "code",
   "execution_count": null,
   "id": "711a408d",
   "metadata": {},
   "outputs": [],
   "source": [
    "df['day'] = df['time'].dt.day\n",
    "df['month'] = df['time'].dt.month\n",
    "month = df['month'].unique()\n",
    "\n",
    "plot_df(df, x=df.time, y=df.sky_temp, ylabel = \"Sky temperature\" ,title='Sky temperature plot',color = 'green')  \n",
    "\n",
    "plot_df(df, x=df.time, y=df.pyr_temp, ylabel = \"Pyr temperature\" ,title='Pyr temperature plot', color = 'blue')  \n",
    "\n",
    "plot_df(df, x=df.time, y=df.day_r0, ylabel = \"Day r0\" ,title='Day r0 plot', color = 'purple')  \n",
    "\n",
    "plot_df(df, x=df.time, y=df.night_r0, ylabel = \"Night r0\" ,title='Night r0 plot')  \n",
    "\n",
    "plot\n"
   ]
  },
  {
   "cell_type": "markdown",
   "id": "32670759",
   "metadata": {},
   "source": [
    "### Affichage de la saisonnalité (ex : en juillet)"
   ]
  },
  {
   "cell_type": "code",
   "execution_count": null,
   "id": "1de63922",
   "metadata": {},
   "outputs": [],
   "source": [
    "plt.plot('day_r0', data=df.loc[~df.month.isin([7]), :],)\n",
    "plt.title('Month-wise plot day r0 \\n(The Seasonality)', fontsize=12)\n",
    "plt.show()\n",
    "plt.plot('night_r0', data=df.loc[~df.month.isin([7]), :],)\n",
    "plt.title('Month-wise plot night r0 \\n(The Seasonality)', fontsize=12)\n",
    "plt.show()"
   ]
  },
  {
   "cell_type": "markdown",
   "id": "28106e81",
   "metadata": {},
   "source": [
    "# Mise en oeuvre algorithme de prédiction des valeurs manquantes"
   ]
  },
  {
   "cell_type": "markdown",
   "id": "d98c47ec",
   "metadata": {},
   "source": [
    "mettre en œuvre des algorithmes de traitement de données pour compléter les valeurs manquantes de la turbulence en utilisant les variables météorologiques, thermiques et supplémentaires. \n",
    "Divisez le jeu de données en deux en fonction de la période de la journée (jour et nuit) en utilisant la variable \"sun_alt\". Les données pour la journée sont \"sun_alt > 0°\" et celles pour la nuit sont \"sun_alt < 0°\"\n",
    "\n",
    "Les variables à compléter: \n",
    "- Turbulence de la journée: day_r0 (Quand le soleil est au-dessus de l’horizon -> [sun_alt > 0°])\n",
    "- Turbulence de la nuit: night_r0 (Quand le soleil est au-dessous de l’horizon -> [sun_alt < 0°])"
   ]
  },
  {
   "cell_type": "code",
   "execution_count": null,
   "id": "4a8b2481",
   "metadata": {},
   "outputs": [],
   "source": [
    "#Les Entrées du modèle: \n",
    "features_weather = ['d_wind_dir', 'humid', 'd_humid', 'press', 'irrad'] \n",
    "features_thermal = ['sky_temp', 'wat_col_hei', 'pyr_temp', 'down_ir']\n",
    "features_extended = ['sun_alt', 'month', 'hour_of_day', 'season']"
   ]
  },
  {
   "cell_type": "markdown",
   "id": "c602e5b6",
   "metadata": {},
   "source": [
    "## Sujet 1: Imputation les données manquantes pour le variable \"day_r0\""
   ]
  },
  {
   "cell_type": "code",
   "execution_count": null,
   "id": "a5804e03",
   "metadata": {},
   "outputs": [],
   "source": [
    "# Selection des données de la journée\n",
    "vars_day = ['day_r0']\n",
    "vars_day.extend(features_weather)\n",
    "vars_day.extend(features_thermal)\n",
    "vars_day.extend(features_extended)\n",
    "print(vars_day)\n",
    "df_jour = df.loc[df['sun_alt'] >= 0, vars_day]\n",
    "print(df_jour.info())\n",
    "df_jour['day_r0'].plot(figsize=(15, 6))"
   ]
  },
  {
   "cell_type": "markdown",
   "id": "103d215e",
   "metadata": {},
   "source": [
    "## Sujet 2: Imputation les données manquantes pour le variable \"night_r0\""
   ]
  },
  {
   "cell_type": "code",
   "execution_count": null,
   "id": "32403307",
   "metadata": {},
   "outputs": [],
   "source": [
    "# Selection des données de la nuit\n",
    "vars_night = ['night_r0']\n",
    "vars_night.extend(features_weather)\n",
    "vars_night.extend(features_thermal)\n",
    "vars_night.extend(features_extended)\n",
    "\n",
    "df_night = df.loc[df['sun_alt'] < 0, vars_night]\n",
    "print(df_night.info())\n",
    "df_night['night_r0'].plot(figsize=(15, 6))"
   ]
  },
  {
   "cell_type": "code",
   "execution_count": null,
   "id": "b21fd012",
   "metadata": {},
   "outputs": [],
   "source": [
    "list_cols = list(df.columns)\n",
    "list_index = list(df.index)"
   ]
  },
  {
   "cell_type": "code",
   "execution_count": null,
   "id": "8dcd1884",
   "metadata": {
    "scrolled": true
   },
   "outputs": [],
   "source": [
    "dfComplet = complete_dataset(df,5)\n",
    "dfMissing = missing_dataset(df,5)"
   ]
  },
  {
   "cell_type": "code",
   "execution_count": null,
   "id": "99ffda05",
   "metadata": {},
   "outputs": [],
   "source": [
    "missingDF(dfComplet)"
   ]
  },
  {
   "cell_type": "markdown",
   "id": "a9428180",
   "metadata": {},
   "source": [
    "On a un dataset complet qui nous servira pour entrainer notre modèle"
   ]
  },
  {
   "cell_type": "code",
   "execution_count": null,
   "id": "b66760ab",
   "metadata": {},
   "outputs": [],
   "source": [
    "split = int(0.80*len(dfComplet))\n",
    "split "
   ]
  },
  {
   "cell_type": "code",
   "execution_count": null,
   "id": "cf72f89d",
   "metadata": {},
   "outputs": [],
   "source": []
  },
  {
   "cell_type": "code",
   "execution_count": null,
   "id": "7590fff0",
   "metadata": {},
   "outputs": [],
   "source": []
  }
 ],
 "metadata": {
  "kernelspec": {
   "display_name": "Python 3 (ipykernel)",
   "language": "python",
   "name": "python3"
  },
  "language_info": {
   "codemirror_mode": {
    "name": "ipython",
    "version": 3
   },
   "file_extension": ".py",
   "mimetype": "text/x-python",
   "name": "python",
   "nbconvert_exporter": "python",
   "pygments_lexer": "ipython3",
   "version": "3.10.12"
  }
 },
 "nbformat": 4,
 "nbformat_minor": 5
}
